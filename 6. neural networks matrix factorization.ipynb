{
 "cells": [
  {
   "cell_type": "markdown",
   "metadata": {
    "colab_type": "text",
    "id": "gk9YdWQS7dBe"
   },
   "source": [
    "# Neural Networks Matrix Factorization"
   ]
  },
  {
   "cell_type": "markdown",
   "metadata": {},
   "source": [
    "Neural Networks can be applied to Matrix Factorization. Two predominent works on neural networks based matrix factorization are Neural Networks Matrix Factorization (NNMF) [Dziugaite and Roy 2015](https://arxiv.org/abs/1511.06443) and  Neural Collaborative Filtering (NFC) [Xiangnan He et al, 2017](https://arxiv.org/abs/1708.05031).\n",
    "\n",
    "--- \n",
    "### How to desing Matrix Factorization with Neural Networks ?\n",
    "\n",
    "Matrix Factorization (**Figure 1 Left**) decomposes the rating matrix $R$ by\n",
    "\n",
    "\\begin{equation}\n",
    "R = Q^{\\top}P,\n",
    "\\end{equation}\n",
    "\n",
    "Where $P$ and $Q$ are latent factors of users and items respectively, and the rating prediction for user $u$ on item $i$ is given by $\\hat{R}_{u,i} = Q_{i}^{\\top}P_u$. Instead of decomposing $R$ into $P$ and $Q$, neural networks model the two-way interaction between users and items through their hidden layers. **Figure 1 Right** presents an example of hidden representations of latent factors $P$ and $Q$.\n",
    "\n",
    "The neural network model is designed as follow : \n",
    "\n",
    "1. Two inputs $(u,i)$ : (<b>userid</b>,<b>itemid</b>); It takes a user and an item in its input layer\n",
    "2. One output $\\hat{r}$ : <b>predicted rating</b>); Return the predicted rating of the input user on the input item.\n",
    "\n",
    "Training examples are the set of $(u,i)$ pairs for which the ratings are known and training labels are the set of known ratings $r_{u,i}$. Training examples are represented as $((u,i), r)$; where $(u,i)$ is one training example and $r$ is the corresponding training label"
   ]
  },
  {
   "cell_type": "markdown",
   "metadata": {
    "colab_type": "text",
    "id": "ph31vDsA7dBg"
   },
   "source": [
    "![](tools/img/MF-and-NNMF.png)\n",
    "<br>\n",
    "<center><b>Figure 1</b>: <b>Left</b> Matrix Factorization, <b>Right</b> Neural Network Based MF </center>"
   ]
  },
  {
   "cell_type": "markdown",
   "metadata": {},
   "source": [
    "---\n",
    "### Details implementation\n",
    "\n",
    "To implement the neural network based matrix factorization, we will proceed as follows \n",
    "\n",
    "1. Data preprocessing : encode users and items ids, split data into train and test sets\n",
    "2. Model building : build the matrix factorization model using neural networks\n",
    "3. Training"
   ]
  },
  {
   "cell_type": "markdown",
   "metadata": {
    "colab_type": "text",
    "id": "Qwr4mwNL7dBg"
   },
   "source": [
    "Let's start by importing requirements"
   ]
  },
  {
   "cell_type": "markdown",
   "metadata": {
    "colab_type": "text",
    "id": "4bnPUq9_7dBh"
   },
   "source": [
    "## Import requirements"
   ]
  },
  {
   "cell_type": "code",
   "execution_count": 1,
   "metadata": {
    "colab": {},
    "colab_type": "code",
    "id": "6QkCS3rB7dBk"
   },
   "outputs": [],
   "source": [
    "from tools.utils import download_data, load_movies, load_ratings\n",
    "from tools.preprocessing import split_data, encode_data\n",
    "\n",
    "import tensorflow as tf\n",
    "import pandas as pd\n",
    "import numpy as np\n",
    "import os"
   ]
  },
  {
   "cell_type": "markdown",
   "metadata": {
    "colab_type": "text",
    "id": "uxdhOMKl7dBo"
   },
   "source": [
    "Download movielen data if it doesn't exist"
   ]
  },
  {
   "cell_type": "code",
   "execution_count": 2,
   "metadata": {
    "colab": {
     "base_uri": "https://localhost:8080/",
     "height": 35
    },
    "colab_type": "code",
    "id": "u7sXnATL7dBp",
    "outputId": "327bbcb9-ed36-4044-f74c-6f4e695bdce7"
   },
   "outputs": [
    {
     "name": "stdout",
     "output_type": "stream",
     "text": [
      "Data already exists ...\n"
     ]
    }
   ],
   "source": [
    "data = os.path.join('tools', 'ml-latest-small')\n",
    "\n",
    "if os.path.exists(data):\n",
    "    print('Data already exists ...')\n",
    "    ratings_csv, movies_csv = os.path.join(data, 'ratings.csv'), os.path.join(data, 'movies.csv')\n",
    "else:\n",
    "    ratings_csv, movies_csv = download_data()"
   ]
  },
  {
   "cell_type": "markdown",
   "metadata": {
    "colab_type": "text",
    "id": "yDf_Jr5H7dBt"
   },
   "source": [
    "## Loading dataset"
   ]
  },
  {
   "cell_type": "code",
   "execution_count": 3,
   "metadata": {
    "colab": {},
    "colab_type": "code",
    "id": "Y2t82ATr7dBt"
   },
   "outputs": [],
   "source": [
    "ratings, movies = load_ratings(ratings_csv), load_movies(movies_csv)\n",
    "\n",
    "m = len(ratings.userid.unique())   # total number of users\n",
    "n = len(ratings.itemid.unique())    # total number of items"
   ]
  },
  {
   "cell_type": "markdown",
   "metadata": {},
   "source": [
    "## Preprocess data\n",
    "\n",
    "---\n",
    "### train test split"
   ]
  },
  {
   "cell_type": "code",
   "execution_count": 4,
   "metadata": {},
   "outputs": [
    {
     "name": "stdout",
     "output_type": "stream",
     "text": [
      "[INFO] Train/Test split \n",
      "  -  90.0 % of training data\n",
      "  -  10.0 % of testing data\n",
      "\n",
      "number of training examples :  (90752, 2)\n",
      "number of training labels :  (90752,)\n",
      "number of test examples :  (10084, 2)\n",
      "number of test labels :  (10084,)\n"
     ]
    }
   ],
   "source": [
    "examples, labels = split_data(ratings, test_size=0.1)"
   ]
  },
  {
   "cell_type": "markdown",
   "metadata": {},
   "source": [
    "### Encode users and items id"
   ]
  },
  {
   "cell_type": "code",
   "execution_count": 5,
   "metadata": {},
   "outputs": [],
   "source": [
    "(X_train, X_test), (y_train, y_test), (uencoder, iencoder) = encode_data(ratings, examples, labels)"
   ]
  },
  {
   "cell_type": "markdown",
   "metadata": {
    "colab_type": "text",
    "id": "Ufenhliv7dCT"
   },
   "source": [
    "## Model building\n",
    "\n",
    "Let's now build the Matrix Factorization Model. To model matrices $P$ and $Q$, we will use the ```Embedding``` layer of the ```keras``` library"
   ]
  },
  {
   "cell_type": "code",
   "execution_count": 6,
   "metadata": {
    "colab": {},
    "colab_type": "code",
    "id": "f4ykDW2_7dCT"
   },
   "outputs": [],
   "source": [
    "from tensorflow.keras.layers import Input, Reshape, Dot, Embedding, Flatten\n",
    "from tensorflow.keras.models import Model\n",
    "from tensorflow.keras.optimizers import Adam, RMSprop, SGD\n",
    "from tensorflow.keras.callbacks import LearningRateScheduler, EarlyStopping\n",
    "from tensorflow.keras.regularizers import l2\n",
    "\n",
    "K = tf.keras.backend\n",
    "\n",
    "def NNMF(m, n, k=50):\n",
    "    \"\"\"\n",
    "    The matrix factorization model takes two inputs : \n",
    "        - input_user : one-hot representation of user id\n",
    "        - input_item : one-hot representation of item id\n",
    "        \n",
    "    :param\n",
    "        - m : number of users\n",
    "        - n : number of items\n",
    "        - k : number of factors to model for both users (P) and items (Q)\n",
    "    \"\"\"\n",
    "    # modeling inputs\n",
    "    input_user = Input(shape=(1,), name='input_user')\n",
    "    input_item = Input(shape=(1,), name='input_item')\n",
    "    \n",
    "    # modeling latent factors of users of items\n",
    "    P = Embedding(m, k, embeddings_initializer=\"random_normal\", name='users_factors')(input_user)\n",
    "    Q = Embedding(n, k, embeddings_initializer=\"random_normal\", name='items_factors')(input_item)\n",
    "\n",
    "    # Flatten latent factors\n",
    "    P = Flatten(name='Flatten_P')(P)\n",
    "    Q = Flatten(name='Flatten_Q')(Q)\n",
    "    \n",
    "    # dot product between P and Q to make prediction\n",
    "    r_hat = Dot(axes=(1))([P,Q])\n",
    "    \n",
    "    model = Model(inputs=[input_user, input_item], outputs=r_hat)\n",
    "    \n",
    "    return model"
   ]
  },
  {
   "cell_type": "code",
   "execution_count": 7,
   "metadata": {
    "colab": {},
    "colab_type": "code",
    "id": "wX0OGXKD7dCW"
   },
   "outputs": [],
   "source": [
    "model = NNMF(m, n, k=30)\n",
    "epochs = 5"
   ]
  },
  {
   "cell_type": "markdown",
   "metadata": {
    "colab_type": "text",
    "id": "C6I8Qw037dCb"
   },
   "source": [
    "Now, we can compile and train the model "
   ]
  },
  {
   "cell_type": "code",
   "execution_count": 8,
   "metadata": {
    "colab": {
     "base_uri": "https://localhost:8080/",
     "height": 431
    },
    "colab_type": "code",
    "id": "AeCA1twv7dCb",
    "outputId": "11f5f8c9-4f6b-4774-8f1c-a38190f43c6c"
   },
   "outputs": [],
   "source": [
    "model.compile(loss='mean_squared_error', optimizer='adam', metrics=['mae'])"
   ]
  },
  {
   "cell_type": "code",
   "execution_count": 9,
   "metadata": {
    "colab": {
     "base_uri": "https://localhost:8080/",
     "height": 719
    },
    "colab_type": "code",
    "id": "ZDIDprX87dCe",
    "outputId": "7a8471a0-6bff-4be2-ce24-c5b761878226"
   },
   "outputs": [
    {
     "name": "stdout",
     "output_type": "stream",
     "text": [
      "Epoch 1/5\n",
      "2836/2836 [==============================] - 12s 4ms/step - loss: 9.9646 - mae: 2.8786 - val_loss: 3.6037 - val_mae: 1.5359\n",
      "Epoch 2/5\n",
      "2836/2836 [==============================] - 12s 4ms/step - loss: 2.1533 - mae: 1.1176 - val_loss: 1.7046 - val_mae: 0.9515\n",
      "Epoch 3/5\n",
      "2836/2836 [==============================] - 12s 4ms/step - loss: 1.1938 - mae: 0.8138 - val_loss: 1.3961 - val_mae: 0.8515\n",
      "Epoch 4/5\n",
      "2836/2836 [==============================] - 12s 4ms/step - loss: 0.9175 - mae: 0.7222 - val_loss: 1.2913 - val_mae: 0.8158\n",
      "Epoch 5/5\n",
      "2836/2836 [==============================] - 12s 4ms/step - loss: 0.7759 - mae: 0.6706 - val_loss: 1.2507 - val_mae: 0.7990\n"
     ]
    }
   ],
   "source": [
    "history = model.fit(X_train, y_train, epochs=5, batch_size=32, validation_data=(X_test, y_test))"
   ]
  },
  {
   "cell_type": "code",
   "execution_count": 10,
   "metadata": {
    "colab": {
     "base_uri": "https://localhost:8080/",
     "height": 324
    },
    "colab_type": "code",
    "id": "ioKYmcc9KDWC",
    "outputId": "bca6d52d-5da9-43de-d4a7-b999821f80ed"
   },
   "outputs": [
    {
     "data": {
      "image/png": "[encoded data removed]",
      "text/plain": [
       "<Figure size 432x288 with 1 Axes>"
      ]
     },
     "metadata": {
      "needs_background": "light"
     },
     "output_type": "display_data"
    }
   ],
   "source": [
    "import matplotlib.pyplot as plt\n",
    "\n",
    "plt.plot(np.arange(0, epochs), history.history['loss'], 'r', label=\"loss\")\n",
    "plt.plot(np.arange(0, epochs), history.history['val_loss'], 'b', label=\"val_loss\")\n",
    "plt.plot(np.arange(0, epochs), history.history['mae'], 'g', label=\"mae\")\n",
    "plt.plot(np.arange(0, epochs), history.history['val_mae'], 'm', label=\"val_mae\")\n",
    "plt.legend(loc='upper right')\n",
    "plt.xlabel(\"Epochs\")\n",
    "plt.ylabel(\"Losses\")\n",
    "plt.grid(True)\n",
    "plt.show()"
   ]
  },
  {
   "cell_type": "markdown",
   "metadata": {
    "colab_type": "text",
    "id": "pKy2sINU9rwu"
   },
   "source": [
    "Model evaluation"
   ]
  },
  {
   "cell_type": "code",
   "execution_count": 11,
   "metadata": {
    "colab": {
     "base_uri": "https://localhost:8080/",
     "height": 53
    },
    "colab_type": "code",
    "id": "f8MY44cx-66W",
    "outputId": "7b5f12b9-fafb-419a-e70e-e31a3da85f60"
   },
   "outputs": [
    {
     "name": "stdout",
     "output_type": "stream",
     "text": [
      "316/316 [==============================] - 0s 790us/step - loss: 1.2507 - mae: 0.7990\n"
     ]
    },
    {
     "data": {
      "text/plain": [
       "[1.2507001161575317, 0.7990131378173828]"
      ]
     },
     "execution_count": 11,
     "metadata": {},
     "output_type": "execute_result"
    }
   ],
   "source": [
    "model.evaluate(X_test, y_test, verbose=1)"
   ]
  },
  {
   "cell_type": "markdown",
   "metadata": {
    "colab_type": "text",
    "id": "LBurFd82EId4"
   },
   "source": [
    "---\n",
    "### How to make recommendation ?\n",
    "\n",
    "As Matrix Factorization models the rating matrix $R$ as\n",
    "\n",
    "\\begin{equation}\n",
    "R = Q^{\\top}P\n",
    "\\end{equation}\n",
    "\n",
    "To predict what score user $u$ will have given to item $i$, we multiply the $u^{th}$ row of $P$ and the $i^{th}$ row of $Q$ as follows :\n",
    "\n",
    "\\begin{equation}\n",
    "\\hat{R}_{u,i} = Q_{i}^{\\top}P_{u}\n",
    "\\end{equation}\n",
    "\n",
    "Here, $Q_i$ is the $i^{th}$ row of $Q$ and $P_u$ is the $u^{th}$ row of $P$.\n",
    "\n",
    "In order to acheive these predictions, let's get the learnt embeddings $P$ and $Q$ from the NNMF model"
   ]
  },
  {
   "cell_type": "code",
   "execution_count": 12,
   "metadata": {
    "colab": {},
    "colab_type": "code",
    "id": "pFfUW8U-_Wdj"
   },
   "outputs": [],
   "source": [
    "# get embeddings of users\n",
    "P = model.get_layer(name='users_factors').get_weights()[0]\n",
    "\n",
    "# get embeddings of items\n",
    "Q = model.get_layer(name='items_factors').get_weights()[0]"
   ]
  },
  {
   "cell_type": "markdown",
   "metadata": {
    "colab_type": "text",
    "id": "HH6mC9FGMa-r"
   },
   "source": [
    "Now, let's make recommendations for a given user $u=15$ and item $i=48516$"
   ]
  },
  {
   "cell_type": "code",
   "execution_count": 13,
   "metadata": {
    "colab": {},
    "colab_type": "code",
    "id": "XaemliFVMX14"
   },
   "outputs": [],
   "source": [
    "def predict(userid, itemid):\n",
    "    \"\"\"\n",
    "    predict the \n",
    "    \"\"\"\n",
    "\n",
    "    # encode user and item ids\n",
    "    userid = uencoder.transform([userid])\n",
    "    itemid = iencoder.transform([itemid])\n",
    "\n",
    "    # prediction\n",
    "    r = Dot(axes=1)([P[userid],Q[itemid]])[0]\n",
    "\n",
    "    return np.array(r)[0]"
   ]
  },
  {
   "cell_type": "code",
   "execution_count": 14,
   "metadata": {
    "colab": {
     "base_uri": "https://localhost:8080/",
     "height": 35
    },
    "colab_type": "code",
    "id": "qC-VeXesOrHk",
    "outputId": "ddffd976-e4e9-45e8-d08d-a5fe5ea8e5ad"
   },
   "outputs": [
    {
     "data": {
      "text/plain": [
       "3.6546004"
      ]
     },
     "execution_count": 14,
     "metadata": {},
     "output_type": "execute_result"
    }
   ],
   "source": [
    "predict(userid=15, itemid=48516)"
   ]
  },
  {
   "cell_type": "markdown",
   "metadata": {},
   "source": [
    "## Reference\n",
    "\n",
    "1. Dziugaite and Roy (2015), [Neural Network Matrix Factorization](https://arxiv.org/abs/1511.06443)\n",
    "2. Xiangnan He et al (2017), [Neural Collaborative Filtering](https://arxiv.org/abs/1708.05031)"
   ]
  },
  {
   "cell_type": "markdown",
   "metadata": {},
   "source": [
    "## Author\n",
    "\n",
    "<a href=\"https://www.linkedin.com/in/carmel-wenga-871876178/\">Carmel WENGA</a>, Applied Machine Learning Research Engineer | <a href=\"https://shoppinglist.cm/fr/\">ShoppingList</a>, Nzhinusoft"
   ]
  }
 ],
 "metadata": {
  "accelerator": "GPU",
  "colab": {
   "name": "4. matrix factorization.ipynb",
   "provenance": [],
   "toc_visible": true
  },
  "kernelspec": {
   "display_name": "RecSys",
   "language": "python",
   "name": "recsys"
  },
  "language_info": {
   "codemirror_mode": {
    "name": "ipython",
    "version": 3
   },
   "file_extension": ".py",
   "mimetype": "text/x-python",
   "name": "python",
   "nbconvert_exporter": "python",
   "pygments_lexer": "ipython3",
   "version": "3.6.10"
  }
 },
 "nbformat": 4,
 "nbformat_minor": 1
}
