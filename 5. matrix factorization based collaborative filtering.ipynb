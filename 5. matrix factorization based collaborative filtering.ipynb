{
 "cells": [
  {
   "cell_type": "markdown",
   "metadata": {
    "colab_type": "text",
    "id": "5MzSv49iMF1_"
   },
   "source": [
    "# Matrix Factorization"
   ]
  },
  {
   "cell_type": "markdown",
   "metadata": {
    "colab_type": "text",
    "id": "mGoHyoipMF2B"
   },
   "source": [
    "<b>User-based</b> and <b>Item-based</b> collaborative Filtering recommender systems suffer from <i>data sparsity</i> and <i>scalability</i> for online recommendations. <b>Matrix Factorization</b> helps to address these drawbacks of memory-based collaborative filtering by reducing the dimension of the rating matrix $R$."
   ]
  },
  {
   "cell_type": "markdown",
   "metadata": {
    "colab_type": "text",
    "id": "kSvTMCyVMF2C"
   },
   "source": [
    "The movielen lasted small dataset has 100k ratings of $m=610$ users on $n=9724$ items. The rating matrix in then a $m\\times n$ matrix (i.e $R\\in \\mathbb{R}^{m\\times n}$). The fact that users usually interact with less than $1\\%$ of items leads the rating matrix $R$ to be highly sparse. For example, the degree of sparsity of the movielen lasted small dataset is \n",
    "\n",
    "\\begin{equation}\n",
    "sparsity = 100 - \\frac{\\text{total # ratings}}{m \\times n} = 100 - \\frac{100000}{610\\times 9724} = 98,3\\%\n",
    "\\end{equation}\n",
    "\n",
    "This means that in this dataset, a user has interacted with less than $2\\%$ of items. To reduce the dimension of the rating matrix $R$, Matrix Factorization (MF) mappes both users and items to a joint latent factor space of dimensionality $k$ such that user-item interactions are modeled as inner products in that space <a href='https://ieeexplore.ieee.org/document/5197422'>(Yehuda Koren et al., 2009)</a>. MF then decomposes $R$ in two matrices as follows :\n",
    "\n",
    "\\begin{equation}\n",
    "R = Q^\\top P\n",
    "\\end{equation}\n",
    "\n",
    "Where $P \\in \\mathbb{R}^{m\\times k}$ represents latent factors of users and $Q \\in \\mathbb{R}^{n\\times k}$ is the latent factors of items. Each line of $P$, say $p_u \\in \\mathbb{R}^k$ denotes the taste of user $u$ and each $q_i \\in \\mathbb{R}^k$ the features of item $i$. The dot product between $p_u$ and $q_i$ will be the rating prediction of user $u$ on item $i$ :\n",
    "\n",
    "\\begin{equation}\n",
    "\\hat{r}_{u,i} = q_{i}^{\\top} p_u.\n",
    "\\end{equation}\n",
    "\n",
    "Figure 1 presents an example of decomposition of $R$ into two matrices $P$ and $Q$.\n",
    "\n",
    "<img src=\"tools/img/MF.png\" width=\"650px\">\n",
    "<br>\n",
    "<center><b>Figure 1</b>: Decomposition of $R$ into $P$ and $Q$</center>\n",
    "\n",
    "\n",
    "To learn the latent factors $p_u$ and $q_i$, the system minimizes the regularized squared error on the set of known ratings. The cost function $J$ is defined as follows : \n",
    "\n",
    "\\begin{equation}\n",
    "J = \\frac{1}{2}\\sum_{(u,i)\\in \\kappa} (r_{ui} - q_{i}^{\\top} p_u)^2 + \\lambda(||p_u||^2 + ||q_i||^2)\n",
    "\\end{equation}\n",
    "\n",
    "where $\\kappa$ is the set of $(u,i)$ pairs for which $r_{u,i}$ is known (the training set), and $\\lambda$ is the regularizer parameter."
   ]
  },
  {
   "cell_type": "markdown",
   "metadata": {
    "colab_type": "text",
    "id": "azVL_VTEMF2C"
   },
   "source": [
    "## Learning Algorithms\n",
    "\n",
    "As described in <a href='https://ieeexplore.ieee.org/document/5197422'>(Yehuda Koren et al., 2009)</a>, to minimize the cost function $J$, the matrix factorization algorithm predicts $\\hat{r}_{u,i}$ for each given training case (existing $r_{u,i}$), and computes the associated error defined by the Mean Absolute Error (MAE) as :\n",
    "\n",
    "\\begin{equation}\n",
    "e_{u,i} = |r_{ui} - q_{i}^{\\top} p_u|.\n",
    "\\end{equation}\n",
    "\n",
    "<b>Note</b> : The overall error $E$ is defined as :\n",
    "\n",
    "\\begin{equation}\n",
    "E = \\frac{1}{M}\\sum_{(u,i)\\in\\kappa} e_{u,i}\n",
    "\\end{equation}\n",
    "\n",
    "Where $M$ is the number of example. The update rules for parameters $p_u$ and $q_i$ are defined as follows :\n",
    "\n",
    "\\begin{equation}\n",
    "q_i \\leftarrow q_i - \\alpha\\frac{\\partial}{\\partial q_i}J_{u,i}, \n",
    "\\end{equation}\n",
    "\n",
    "\\begin{equation}\n",
    "p_u \\leftarrow p_u - \\alpha\\frac{\\partial}{\\partial p_u}J_{u,i}\n",
    "\\end{equation}\n",
    "\n",
    "where $\\alpha$ is the learning rate and $\\frac{\\partial}{\\partial p_u}J_{u,i}$ is the partial derivative of the cost function $J$ according to $p_u$. It computes the extent to which $p_u$ contributes to the total error.\n",
    "\n",
    "### How to compute $\\frac{\\partial}{\\partial q_i}J_{u,i}$ ?\n",
    "\n",
    "\\begin{align}\n",
    "\\frac{\\partial}{\\partial q_i}J_{u,i} & = & \\frac{1}{2}\\frac{\\partial}{\\partial q_i} \\begin{bmatrix}(r_{ui} - q_{i}^{\\top} p_u)^2 + \\lambda(||p_u||^2 + ||q_i||^2)\\end{bmatrix} \\\\\n",
    "& = & -(r_{u,i}-q_{i}^{\\top} p_u)\\cdot p_u + \\lambda \\cdot q_i  \\\\\n",
    "& = & -e_{u,i}\\cdot p_u+\\lambda \\cdot q_i\n",
    "\\end{align}\n",
    "\n",
    "The update rules are then given by : \n",
    "\n",
    "\\begin{equation}\n",
    "q_i \\leftarrow q_i + \\alpha\\cdot (e_{u,i}\\cdot p_u-\\lambda \\cdot q_i), \n",
    "\\end{equation}\n",
    "\n",
    "\\begin{equation}\n",
    "p_u \\leftarrow p_u + \\alpha\\cdot (e_{u,i}\\cdot q_i-\\lambda \\cdot p_u)\n",
    "\\end{equation}"
   ]
  },
  {
   "cell_type": "markdown",
   "metadata": {
    "colab_type": "text",
    "id": "04D2zA48MF2D"
   },
   "source": [
    "## Matrix Factorization : algorithm\n",
    "<ol>\n",
    "    <li>Initialize $P$ and $Q$ with random values\n",
    "    <li>For each training example $(u,i)\\in\\kappa$ with the corresponding rating $r_{u,i}$ :\n",
    "        <ul>\n",
    "            <li>compute $\\hat{r}_{u,i}$ as $\\hat{r}_{u,i} = q_{i}^{\\top} p_u$\n",
    "            <li>compute the error : $e_{u,i} = |r_{ui} - \\hat{r}_{u,i}|$\n",
    "            <li>update $p_u$ and $q_i$:\n",
    "                <ul>\n",
    "                    <li>$p_u \\leftarrow p_u + \\alpha\\cdot (e_{u,i}\\cdot q_i-\\lambda \\cdot p_u)$\n",
    "                    <li>$q_i \\leftarrow q_i + \\alpha\\cdot (e_{u,i}\\cdot p_u-\\lambda \\cdot q_i)$\n",
    "                </ul>\n",
    "        </ul>\n",
    "    <li> Repeat step 2 until the optimal parameters are reached.\n",
    "</ol>\n"
   ]
  },
  {
   "cell_type": "markdown",
   "metadata": {
    "colab_type": "text",
    "id": "C4k3EF8VMF2D"
   },
   "source": [
    "## Matrix Factorization : implementation"
   ]
  },
  {
   "cell_type": "markdown",
   "metadata": {
    "colab_type": "text",
    "id": "gnzHRemEMF2E"
   },
   "source": [
    "Let's start by importing useful requirements"
   ]
  },
  {
   "cell_type": "markdown",
   "metadata": {
    "colab_type": "text",
    "id": "vM3wg1cPMF2F"
   },
   "source": [
    "### Import requirements"
   ]
  },
  {
   "cell_type": "code",
   "execution_count": 1,
   "metadata": {
    "colab": {},
    "colab_type": "code",
    "id": "x_ohlWURMF2F"
   },
   "outputs": [],
   "source": [
    "from tools.utils import download_data, load_movies, load_ratings\n",
    "from sklearn.model_selection import train_test_split\n",
    "from sklearn.preprocessing import LabelEncoder\n",
    "from scipy.sparse import csr_matrix\n",
    "\n",
    "import matplotlib.pyplot as plt\n",
    "import tensorflow as tf\n",
    "import pandas as pd\n",
    "import numpy as np\n",
    "import os"
   ]
  },
  {
   "cell_type": "markdown",
   "metadata": {
    "colab_type": "text",
    "id": "nYc9c_YoMF2I"
   },
   "source": [
    "Download movielen data if it doesn't exist"
   ]
  },
  {
   "cell_type": "code",
   "execution_count": 2,
   "metadata": {
    "colab": {
     "base_uri": "https://localhost:8080/",
     "height": 35
    },
    "colab_type": "code",
    "id": "gCrrdOF7MF2J",
    "outputId": "5fffe8ed-2559-48d5-d28b-4baa4822432b"
   },
   "outputs": [
    {
     "name": "stdout",
     "output_type": "stream",
     "text": [
      "Data already exists ...\n"
     ]
    }
   ],
   "source": [
    "data = os.path.join('tools', 'ml-latest-small')\n",
    "\n",
    "if os.path.exists(data):\n",
    "    print('Data already exists ...')\n",
    "    ratings_csv, movies_csv = os.path.join(data, 'ratings.csv'), os.path.join(data, 'movies.csv')\n",
    "else:\n",
    "    ratings_csv, movies_csv = download_data()"
   ]
  },
  {
   "cell_type": "markdown",
   "metadata": {
    "colab_type": "text",
    "id": "F7XA13VGMF2N"
   },
   "source": [
    "### Loading dataset"
   ]
  },
  {
   "cell_type": "code",
   "execution_count": 3,
   "metadata": {
    "colab": {},
    "colab_type": "code",
    "id": "R4s3z1vBMF2N"
   },
   "outputs": [],
   "source": [
    "ratings, movies = load_ratings(ratings_csv), load_movies(movies_csv)"
   ]
  },
  {
   "cell_type": "markdown",
   "metadata": {
    "colab_type": "text",
    "id": "mXSmGfAeMF2Q"
   },
   "source": [
    "Let's generate our rating matrix from from the ```ratings``` dataframe"
   ]
  },
  {
   "cell_type": "code",
   "execution_count": 4,
   "metadata": {
    "colab": {},
    "colab_type": "code",
    "id": "mPf9iC3AMF2R"
   },
   "outputs": [],
   "source": [
    "def ratings_matrix(ratings):\n",
    "    \"\"\"\n",
    "    :param ratings : DataFrame of user ratings\n",
    "    :return R : numpy array of shape (m,n). where m is the number of users and n the number of items\n",
    "    \"\"\"\n",
    "    \n",
    "    R = csr_matrix(pd.crosstab(ratings.userid, ratings.itemid, ratings.rating, aggfunc=sum).fillna(0).values)\n",
    "    \n",
    "    return R"
   ]
  },
  {
   "cell_type": "code",
   "execution_count": 5,
   "metadata": {
    "colab": {
     "base_uri": "https://localhost:8080/",
     "height": 35
    },
    "colab_type": "code",
    "id": "IZ-mfSyFMF2T",
    "outputId": "c42baf20-8b88-4d65-8fcd-75d37f9a5422"
   },
   "outputs": [
    {
     "data": {
      "text/plain": [
       "(610, 9724)"
      ]
     },
     "execution_count": 5,
     "metadata": {},
     "output_type": "execute_result"
    }
   ],
   "source": [
    "R = ratings_matrix(ratings)\n",
    "R.shape"
   ]
  },
  {
   "cell_type": "markdown",
   "metadata": {
    "colab_type": "text",
    "id": "5iGmYxndMF2X"
   },
   "source": [
    "As expected, the shape of $R$ is (610, 9724). ```R[0,:]``` (resp. ```R[909,:]```) represents ratings given by the first user with id=1 (resp. the last user with id=910) to all items. Similarily, ```R[:,0]``` (resp. ```R[:,9723]```) represents ratings given by all users to the first item with index 0 (resp. to the last items with index 9723).\n",
    "\n",
    "We have 9724 items, but their ids do not ranges from 1 to 9724 but from 1 to 193609. So our item ids are 9724 values taken in the range 1 to 193609. In order to be able to access ratings of users or items through the rating matrix $R$, we need to encode their ids in such a way that they range from 0 to 909 for users and from 0 to 9723 for items. To do that, we will user the ```LabelEncoder``` of the ```sklearn``` library.\n",
    "\n",
    "Moreover, we need to split our dataset into train and test sets for training and validation steps respectively.\n",
    "1. ```examples``` is the set of $(u,i)$ pairs for which $r_{u,i}$ is known.\n",
    "2. ```labels``` set of existing ratings $r_{u,i}$ for all $(u,i)$ pairs"
   ]
  },
  {
   "cell_type": "code",
   "execution_count": 6,
   "metadata": {
    "colab": {},
    "colab_type": "code",
    "id": "-YFNAD9BMF2X"
   },
   "outputs": [],
   "source": [
    "examples = ratings[['userid', 'itemid']].values\n",
    "labels = ratings.rating.values"
   ]
  },
  {
   "cell_type": "markdown",
   "metadata": {
    "colab_type": "text",
    "id": "fah7D6czMF2b"
   },
   "source": [
    "Now let's split our training ```examples``` as well as their ```labels``` into train and validation sets using the ```train_test_split``` function of the ```sklearn``` library. The details about splitting are the following:\n",
    "\n",
    "- ```test_size = 0.1``` specifies that the size of the test set will account for $10\\%$ of the data set and that the training set will take $100\\%-10\\%=90\\%$. \n",
    "- With the ```shuffle``` parameter assigned to ```True```, the dataset will be randomly shuffled before the train/test split operation.\n",
    "- The ```random_state``` controls the shuffling applied to the data before applying the split. Pass an int for reproducible output across multiple function calls"
   ]
  },
  {
   "cell_type": "code",
   "execution_count": 7,
   "metadata": {
    "colab": {},
    "colab_type": "code",
    "id": "Z6W_Ov-IMF2d"
   },
   "outputs": [],
   "source": [
    "train_examples, test_examples, train_labels, test_labels = train_test_split(\n",
    "    examples, \n",
    "    labels, \n",
    "    test_size=0.1, \n",
    "    random_state=42, \n",
    "    shuffle=True\n",
    ")"
   ]
  },
  {
   "cell_type": "markdown",
   "metadata": {
    "colab_type": "text",
    "id": "IHxC2iz8MF2g"
   },
   "source": [
    "Now let's encode our training and validation examples to be able to access their corresponding latent factors in $P$ and $Q$"
   ]
  },
  {
   "cell_type": "code",
   "execution_count": 8,
   "metadata": {
    "colab": {},
    "colab_type": "code",
    "id": "o3NDlx-xMF2g"
   },
   "outputs": [],
   "source": [
    "users = sorted(ratings['userid'].unique())\n",
    "items = sorted(ratings['itemid'].unique())\n",
    "\n",
    "# create our id encoders\n",
    "uencoder = LabelEncoder()\n",
    "iencoder = LabelEncoder()\n",
    "\n",
    "# fit our label encoder\n",
    "uencoder.fit(users)\n",
    "iencoder.fit(items)\n",
    "\n",
    "# transform train and test examples to their corresponding one-hot representations\n",
    "train_users = train_examples[:,0]\n",
    "test_users = test_examples[:,0]\n",
    "\n",
    "train_items = train_examples[:,1]\n",
    "test_items = test_examples[:,1]\n",
    "\n",
    "train_users = uencoder.transform(train_users)\n",
    "test_users = uencoder.transform(test_users)\n",
    "\n",
    "train_items = iencoder.transform(train_items)\n",
    "test_items = iencoder.transform(test_items)"
   ]
  },
  {
   "cell_type": "markdown",
   "metadata": {
    "colab_type": "text",
    "id": "blg8idyJMF2j"
   },
   "source": [
    "Final training and test sets"
   ]
  },
  {
   "cell_type": "code",
   "execution_count": 9,
   "metadata": {
    "colab": {},
    "colab_type": "code",
    "id": "shJcoQQTMF2k"
   },
   "outputs": [],
   "source": [
    "X_train, X_test = np.array(list(zip(train_users, train_items))), np.array(list(zip(test_users, test_items)))\n",
    "y_train, y_test = train_labels, test_labels"
   ]
  },
  {
   "cell_type": "code",
   "execution_count": 10,
   "metadata": {
    "colab": {
     "base_uri": "https://localhost:8080/",
     "height": 53
    },
    "colab_type": "code",
    "id": "sT8MUMCKMF2o",
    "outputId": "73e73a2d-6a64-4d7a-a510-4ea4b15b1f1e"
   },
   "outputs": [
    {
     "name": "stdout",
     "output_type": "stream",
     "text": [
      "number of users :  610\n",
      "number of items :  9724\n"
     ]
    }
   ],
   "source": [
    "m = ratings['userid'].nunique()   # total number of users\n",
    "n = ratings['itemid'].nunique()   # total number of items\n",
    "\n",
    "print('number of users : ', m)\n",
    "print('number of items : ', n)"
   ]
  },
  {
   "cell_type": "markdown",
   "metadata": {
    "colab_type": "text",
    "id": "Q3dz9j0IMF2s"
   },
   "source": [
    "### Matrix Factorization Model\n",
    "\n",
    "Now let's define our matrix factorization model. Here are the methods associated to our matrix factorization model\n",
    "\n",
    "1. ```fit(x_train, y_train, epochs, validation_data)```: train the matrix factorization model (train the latent factors $P$ and $Q$) on the training set for 1000 epochs by default and use the test set as validation data.\n",
    "2. ```evaluate(x_test, y_test)```: evaluate the model on the test set\n",
    "3. ```predict(userid, itemid)```: make rating prediction for a user on a given item using the learnt latent factors $P$ and $Q$.\n",
    "4. ```recommend(userid, N=30)```: make top $N$ recommendation for a given user. Return the top $N$ items with the $N$ largest predicted ratings."
   ]
  },
  {
   "cell_type": "code",
   "execution_count": 11,
   "metadata": {
    "colab": {},
    "colab_type": "code",
    "id": "29phzvm_MF2t"
   },
   "outputs": [],
   "source": [
    "class MatrixFactorization:\n",
    "    \n",
    "    def __init__(self, R, m, n, k=50, alpha=0.1, lamb=1):\n",
    "        \"\"\"\n",
    "        Initialization of the model        \n",
    "        :param\n",
    "            - R : rating matrix of shape (m,n)\n",
    "            - m : number of users\n",
    "            - n : number of items\n",
    "            - k : length of latent factor, both for users and items. 50 by default\n",
    "            - alpha : learning rate. 0.001 by default\n",
    "            - lamb : regularizer parameter. 0.02 by default\n",
    "        \"\"\"\n",
    "        # rating matrix\n",
    "        self.R = R\n",
    "        \n",
    "        np.random.seed(32)\n",
    "        \n",
    "        # initialize the latent factor matrices P and Q (of shapes (m,k) and (n,k) respectively) that will be learnt\n",
    "        self.k = k\n",
    "        self.P = np.random.normal(size=(m,k))\n",
    "        self.Q = np.random.normal(size=(n,k))\n",
    "        \n",
    "        # hyperparameter initialization\n",
    "        self.alpha = alpha\n",
    "        self.lamb = lamb\n",
    "        \n",
    "        # training history\n",
    "        self.history = {\n",
    "            \"epochs\":[],\n",
    "            \"loss\":[],\n",
    "            \"val_loss\":[]\n",
    "        }\n",
    "    \n",
    "    def fit(self, x_train, y_train, validation_data, epochs=1000):\n",
    "        \"\"\"\n",
    "        Train latent factors P and Q according to the training set\n",
    "        \n",
    "        :param\n",
    "            - x_train : training pairs (u,i) for which rating r_ui is known\n",
    "            - y_train : set of ratings r_ui for all training pairs (u,i)\n",
    "            - validation_data : tuple (x_test, y_test)\n",
    "            - epochs : number of time to loop over the entire training set. \n",
    "            1000 epochs by default\n",
    "            \n",
    "        Note that u and i are encoded values of userid and itemid\n",
    "        \"\"\"\n",
    "        \n",
    "        print('[INFO] Training Matrix Factorization with the following hyperparameters :\\n')\n",
    "        print('   - Number of latent factor k = {}'.format(self.k))\n",
    "        print('   - learning rate alpha = {}'.format(self.alpha))\n",
    "        print('   - regularization parameter lamb = {} \\n'.format(self.lamb))\n",
    "        print('[INFO] Strating training job ... \\n')\n",
    "\n",
    "        # number of training examples\n",
    "        M = x_train.shape[0]\n",
    "        \n",
    "        # loop over the number of epochs\n",
    "        for epoch in range(epochs):\n",
    "            \n",
    "            # for each pair (u,i) and the corresponding rating r\n",
    "            for pair, r in zip(x_train, y_train):\n",
    "                \n",
    "                # get encoded values of userid and itemid from pair\n",
    "                u,i = pair\n",
    "                \n",
    "                # compute the predicted rating r_hat\n",
    "                r_hat = np.dot(self.P[u], self.Q[i])\n",
    "                \n",
    "                # compute the prediction error\n",
    "                e = abs(r - r_hat)\n",
    "                \n",
    "                # update rules\n",
    "                # P[u,:] = P[u,:] + alpha * (e * Q[i,:] - lambda * P[u,:])\n",
    "                self.P[u] = self.P[u] + self.alpha * (e * self.Q[i] - self.lamb * self.P[u])\n",
    "                self.Q[i] = self.Q[i] + self.alpha * (e * self.P[u] - self.lamb * self.Q[i])\n",
    "                \n",
    "            # global training error after this epochs\n",
    "            error = 0\n",
    "            for pair, r in zip(x_train, y_train):\n",
    "                error += abs(r - np.dot(self.P[pair[0]], self.Q[pair[1]]))\n",
    "            error /= M\n",
    "\n",
    "            # error on validation set\n",
    "            x_test, y_test = validation_data\n",
    "            val_error = 0\n",
    "            for pair, r in zip(x_test, y_test):\n",
    "                val_error += abs(r - np.dot(self.P[pair[0]], self.Q[pair[1]]))\n",
    "            val_error /= x_test.shape[0]\n",
    "            \n",
    "            # update history\n",
    "            self.history['epochs'].append(epoch)\n",
    "            self.history['loss'].append(error)\n",
    "            self.history['val_loss'].append(val_error)\n",
    "            \n",
    "            # print training progress after each 10 epochs\n",
    "            if epoch % 5 == 0 or epoch == epochs-1:\n",
    "                print(\"epoch {}/{} - loss : {} - val_loss : {}\".format(epoch, epochs, round(error,3), round(val_error,3)))\n",
    "              \n",
    "            # leaning rate scheduler : redure the learning rate as we go deeper in the number of epochs\n",
    "            if epoch >= 30 and epoch % 30 == 0:\n",
    "                factor = epoch // 30\n",
    "                self.alpha = self.alpha * (1 / (factor * 20))\n",
    "                print(\"\\nLearning Rate : {}\\n\".format(self.alpha))\n",
    "        \n",
    "        return self.history\n",
    "    \n",
    "    def evaluate(self, x_test, y_test):\n",
    "        \"\"\"\n",
    "        compute the global error on the test set\n",
    "        \n",
    "        :param\n",
    "            - x_test : test pairs (u,i) for which rating r_ui is known\n",
    "            - y_test : set of ratings r_ui for all test pairs (u,i)\n",
    "        \"\"\"\n",
    "        # number of test examples\n",
    "        M = x_test.shape[0]\n",
    "        \n",
    "        # initialize the error\n",
    "        error = 0\n",
    "        for pair, r in zip(x_test, y_test):\n",
    "            u,i = pair\n",
    "            e = abs(r - np.dot(self.P[u,:], self.Q[i,:]))\n",
    "            error += e\n",
    "        \n",
    "        error /= M\n",
    "        print(\"val_error : \", str(round(error,3)))\n",
    "      \n",
    "    def predict(self, userid, itemid):\n",
    "        \"\"\"\n",
    "        Make rating prediction for a user on an item\n",
    "\n",
    "        :param\n",
    "        - userid\n",
    "        - itemid\n",
    "\n",
    "        :return\n",
    "        - r : predicted rating\n",
    "        \"\"\"\n",
    "        # encode user and item ids to be able to access their latent factors in\n",
    "        # matrices P and Q\n",
    "        u = uencoder.transform([userid])[0]\n",
    "        i = iencoder.transform([itemid])[0]\n",
    "\n",
    "        # rating prediction using encoded ids. Dot product between P_u and Q_i\n",
    "        r = np.dot(self.P[u], self.Q[i])\n",
    "\n",
    "        return r\n",
    "\n",
    "    def recommend(self, userid, N=30):\n",
    "        \"\"\"\n",
    "        make to N recommendations for a given user\n",
    "\n",
    "        :return \n",
    "        - (top_items,preds) : top N items with the highest predictions \n",
    "        with their corresponding predictions\n",
    "        \"\"\"\n",
    "        # encode the userid\n",
    "        u = uencoder.transform([userid])[0]\n",
    "\n",
    "        # predictions for users userid on all product\n",
    "        predictions = np.dot(self.P[u], self.Q.T)\n",
    "\n",
    "        # get the indices of the top N predictions\n",
    "        top_idx = np.flip(np.argsort(predictions))[:N]\n",
    "\n",
    "        # decode indices to get their corresponding itemids\n",
    "        top_items = iencoder.inverse_transform(top_idx)\n",
    "\n",
    "        # take corresponding predictions for top N indices\n",
    "        preds = predictions[top_idx]\n",
    "\n",
    "        return top_items, preds        "
   ]
  },
  {
   "cell_type": "markdown",
   "metadata": {
    "colab_type": "text",
    "id": "82vmS-bpMF2w"
   },
   "source": [
    "Now that the model has been defined, let's fit it with the training set. The efficiency of the model will highly depends on hyperparameters tuning : find optimal values of $k$ (number of latent factors both for users and items), $\\alpha$ (```alpha```, the learning rate) and $\\lambda$ (```lamb```, the regularizer parameter).\n",
    "\n",
    "We have to tune the tuple $(k, \\alpha, \\lambda)$"
   ]
  },
  {
   "cell_type": "code",
   "execution_count": 12,
   "metadata": {
    "colab": {
     "base_uri": "https://localhost:8080/",
     "height": 377
    },
    "colab_type": "code",
    "id": "evNl8i1KMF2w",
    "outputId": "664f7c83-9bc7-44ca-a694-89864a16685c"
   },
   "outputs": [
    {
     "name": "stdout",
     "output_type": "stream",
     "text": [
      "[INFO] Training Matrix Factorization with the following hyperparameters :\n",
      "\n",
      "   - Number of latent factor k = 20\n",
      "   - learning rate alpha = 0.005\n",
      "   - regularization parameter lamb = 1.23 \n",
      "\n",
      "[INFO] Strating training job ... \n",
      "\n",
      "epoch 0/41 - loss : 3.364 - val_loss : 3.47\n",
      "epoch 5/41 - loss : 1.919 - val_loss : 2.0\n",
      "epoch 10/41 - loss : 1.574 - val_loss : 1.646\n",
      "epoch 15/41 - loss : 1.452 - val_loss : 1.523\n",
      "epoch 20/41 - loss : 1.389 - val_loss : 1.459\n",
      "epoch 25/41 - loss : 1.349 - val_loss : 1.42\n",
      "epoch 30/41 - loss : 1.323 - val_loss : 1.386\n",
      "\n",
      "Learning Rate : 0.00025\n",
      "\n",
      "epoch 35/41 - loss : 1.317 - val_loss : 1.375\n",
      "epoch 40/41 - loss : 1.315 - val_loss : 1.361\n"
     ]
    }
   ],
   "source": [
    "# create the model\n",
    "MF = MatrixFactorization(R, m, n, k=20, alpha=0.005, lamb=1.23)\n",
    "\n",
    "# fit the model on the training set\n",
    "history = MF.fit(X_train, y_train, epochs=41, validation_data=(X_test, y_test))"
   ]
  },
  {
   "cell_type": "markdown",
   "metadata": {
    "colab_type": "text",
    "id": "varg8U-Dy_ar"
   },
   "source": [
    "Let's visualize the learning curve"
   ]
  },
  {
   "cell_type": "code",
   "execution_count": 13,
   "metadata": {
    "colab": {
     "base_uri": "https://localhost:8080/",
     "height": 279
    },
    "colab_type": "code",
    "id": "eJ97JNkXzl3A",
    "outputId": "ca4e7176-9af0-4455-8893-b316aa87602f"
   },
   "outputs": [
    {
     "data": {
      "image/png": "[encoded data removed]",
      "text/plain": [
       "<Figure size 432x288 with 1 Axes>"
      ]
     },
     "metadata": {
      "needs_background": "light"
     },
     "output_type": "display_data"
    }
   ],
   "source": [
    "plt.plot(MF.history['epochs'], MF.history['loss'], 'r', label=\"loss\")\n",
    "plt.plot(MF.history['epochs'], MF.history['val_loss'], 'b', label=\"val_loss\")\n",
    "plt.legend(loc='upper right')\n",
    "plt.xlabel(\"Epochs\")\n",
    "plt.ylabel(\"MAE (Mean Absolute Error)\")\n",
    "plt.grid(True)\n",
    "plt.show()"
   ]
  },
  {
   "cell_type": "code",
   "execution_count": 14,
   "metadata": {
    "colab": {
     "base_uri": "https://localhost:8080/",
     "height": 35
    },
    "colab_type": "code",
    "id": "Bc6F0HWMWbLd",
    "outputId": "8e271e4a-ca53-4d05-eac3-90d18baf4ba4"
   },
   "outputs": [
    {
     "name": "stdout",
     "output_type": "stream",
     "text": [
      "val_error :  1.361\n"
     ]
    }
   ],
   "source": [
    "MF.evaluate(X_test, y_test)"
   ]
  },
  {
   "cell_type": "markdown",
   "metadata": {
    "colab_type": "text",
    "id": "_hzclXP0RL8V"
   },
   "source": [
    "Now that the latent factors $P$ and $Q$, we can use them to make predictions and recommendations. Let's call the ```predict``` function of the ```Matrix Factorization``` class to make prediction for a given.\n",
    "\n",
    "rating prediction for user 1 on item 6 for which the truth rating $r=4.0$"
   ]
  },
  {
   "cell_type": "code",
   "execution_count": 15,
   "metadata": {
    "colab": {
     "base_uri": "https://localhost:8080/",
     "height": 35
    },
    "colab_type": "code",
    "id": "WjQN_N1WRKSm",
    "outputId": "0003d90b-3c19-4af8-c77f-5206a60d5be5"
   },
   "outputs": [
    {
     "data": {
      "text/plain": [
       "4.269817544036902"
      ]
     },
     "execution_count": 15,
     "metadata": {},
     "output_type": "execute_result"
    }
   ],
   "source": [
    "MF.predict(userid=1, itemid=6)"
   ]
  },
  {
   "cell_type": "markdown",
   "metadata": {
    "colab_type": "text",
    "id": "YYncVXWvebEZ"
   },
   "source": [
    "Now we can make recommendations for a  given user with function ```recommend``` of the ```Matrix Factorization``` class."
   ]
  },
  {
   "cell_type": "code",
   "execution_count": 16,
   "metadata": {
    "colab": {
     "base_uri": "https://localhost:8080/",
     "height": 979
    },
    "colab_type": "code",
    "id": "M5FpA7T3uA2v",
    "outputId": "35730e8b-e6d8-4f56-f6f4-161e09128412"
   },
   "outputs": [
    {
     "data": {
      "text/html": [
       "<div>\n",
       "<style scoped>\n",
       "    .dataframe tbody tr th:only-of-type {\n",
       "        vertical-align: middle;\n",
       "    }\n",
       "\n",
       "    .dataframe tbody tr th {\n",
       "        vertical-align: top;\n",
       "    }\n",
       "\n",
       "    .dataframe thead th {\n",
       "        text-align: right;\n",
       "    }\n",
       "</style>\n",
       "<table border=\"1\" class=\"dataframe\">\n",
       "  <thead>\n",
       "    <tr style=\"text-align: right;\">\n",
       "      <th></th>\n",
       "      <th>itemid</th>\n",
       "      <th>predictions</th>\n",
       "      <th>title</th>\n",
       "    </tr>\n",
       "  </thead>\n",
       "  <tbody>\n",
       "    <tr>\n",
       "      <th>0</th>\n",
       "      <td>97194</td>\n",
       "      <td>5.436833</td>\n",
       "      <td>Thing: Terror Takes Shape, The (1998)</td>\n",
       "    </tr>\n",
       "    <tr>\n",
       "      <th>1</th>\n",
       "      <td>71033</td>\n",
       "      <td>4.993889</td>\n",
       "      <td>Secret in Their Eyes, The (El secreto de sus o...</td>\n",
       "    </tr>\n",
       "    <tr>\n",
       "      <th>2</th>\n",
       "      <td>7065</td>\n",
       "      <td>4.973198</td>\n",
       "      <td>Birth of a Nation, The (1915)</td>\n",
       "    </tr>\n",
       "    <tr>\n",
       "      <th>3</th>\n",
       "      <td>8464</td>\n",
       "      <td>4.883735</td>\n",
       "      <td>Super Size Me (2004)</td>\n",
       "    </tr>\n",
       "    <tr>\n",
       "      <th>4</th>\n",
       "      <td>92259</td>\n",
       "      <td>4.812528</td>\n",
       "      <td>Intouchables (2011)</td>\n",
       "    </tr>\n",
       "    <tr>\n",
       "      <th>5</th>\n",
       "      <td>1203</td>\n",
       "      <td>4.643011</td>\n",
       "      <td>12 Angry Men (1957)</td>\n",
       "    </tr>\n",
       "    <tr>\n",
       "      <th>6</th>\n",
       "      <td>5444</td>\n",
       "      <td>4.627319</td>\n",
       "      <td>Lilo &amp; Stitch (2002)</td>\n",
       "    </tr>\n",
       "    <tr>\n",
       "      <th>7</th>\n",
       "      <td>6016</td>\n",
       "      <td>4.597095</td>\n",
       "      <td>City of God (Cidade de Deus) (2002)</td>\n",
       "    </tr>\n",
       "    <tr>\n",
       "      <th>8</th>\n",
       "      <td>335</td>\n",
       "      <td>4.519516</td>\n",
       "      <td>Underneath (1995)</td>\n",
       "    </tr>\n",
       "    <tr>\n",
       "      <th>9</th>\n",
       "      <td>54286</td>\n",
       "      <td>4.464704</td>\n",
       "      <td>Bourne Ultimatum, The (2007)</td>\n",
       "    </tr>\n",
       "    <tr>\n",
       "      <th>10</th>\n",
       "      <td>5618</td>\n",
       "      <td>4.418804</td>\n",
       "      <td>Spirited Away (Sen to Chihiro no kamikakushi) ...</td>\n",
       "    </tr>\n",
       "    <tr>\n",
       "      <th>11</th>\n",
       "      <td>178</td>\n",
       "      <td>4.390369</td>\n",
       "      <td>Love &amp; Human Remains (1993)</td>\n",
       "    </tr>\n",
       "    <tr>\n",
       "      <th>12</th>\n",
       "      <td>3450</td>\n",
       "      <td>4.325613</td>\n",
       "      <td>Grumpy Old Men (1993)</td>\n",
       "    </tr>\n",
       "    <tr>\n",
       "      <th>13</th>\n",
       "      <td>106642</td>\n",
       "      <td>4.294706</td>\n",
       "      <td>Day of the Doctor, The (2013)</td>\n",
       "    </tr>\n",
       "    <tr>\n",
       "      <th>14</th>\n",
       "      <td>508</td>\n",
       "      <td>4.274174</td>\n",
       "      <td>Philadelphia (1993)</td>\n",
       "    </tr>\n",
       "    <tr>\n",
       "      <th>15</th>\n",
       "      <td>134326</td>\n",
       "      <td>4.225737</td>\n",
       "      <td>The Taming of the Scoundrel (1980)</td>\n",
       "    </tr>\n",
       "    <tr>\n",
       "      <th>16</th>\n",
       "      <td>47610</td>\n",
       "      <td>4.221846</td>\n",
       "      <td>Illusionist, The (2006)</td>\n",
       "    </tr>\n",
       "    <tr>\n",
       "      <th>17</th>\n",
       "      <td>136958</td>\n",
       "      <td>4.219179</td>\n",
       "      <td>Mortuary (1983)</td>\n",
       "    </tr>\n",
       "    <tr>\n",
       "      <th>18</th>\n",
       "      <td>2248</td>\n",
       "      <td>4.180741</td>\n",
       "      <td>Say Anything... (1989)</td>\n",
       "    </tr>\n",
       "    <tr>\n",
       "      <th>19</th>\n",
       "      <td>56152</td>\n",
       "      <td>4.174128</td>\n",
       "      <td>Enchanted (2007)</td>\n",
       "    </tr>\n",
       "    <tr>\n",
       "      <th>20</th>\n",
       "      <td>96821</td>\n",
       "      <td>4.171290</td>\n",
       "      <td>Perks of Being a Wallflower, The (2012)</td>\n",
       "    </tr>\n",
       "    <tr>\n",
       "      <th>21</th>\n",
       "      <td>3586</td>\n",
       "      <td>4.163248</td>\n",
       "      <td>The Idolmaker (1980)</td>\n",
       "    </tr>\n",
       "    <tr>\n",
       "      <th>22</th>\n",
       "      <td>95583</td>\n",
       "      <td>4.101549</td>\n",
       "      <td>Savages (2012)</td>\n",
       "    </tr>\n",
       "    <tr>\n",
       "      <th>23</th>\n",
       "      <td>1035</td>\n",
       "      <td>4.082255</td>\n",
       "      <td>Sound of Music, The (1965)</td>\n",
       "    </tr>\n",
       "    <tr>\n",
       "      <th>24</th>\n",
       "      <td>138835</td>\n",
       "      <td>4.066348</td>\n",
       "      <td>Return to Treasure Island (1988)</td>\n",
       "    </tr>\n",
       "    <tr>\n",
       "      <th>25</th>\n",
       "      <td>2762</td>\n",
       "      <td>4.053777</td>\n",
       "      <td>Sixth Sense, The (1999)</td>\n",
       "    </tr>\n",
       "    <tr>\n",
       "      <th>26</th>\n",
       "      <td>176579</td>\n",
       "      <td>4.051202</td>\n",
       "      <td>Cage Dive (2017)</td>\n",
       "    </tr>\n",
       "    <tr>\n",
       "      <th>27</th>\n",
       "      <td>45517</td>\n",
       "      <td>4.048681</td>\n",
       "      <td>Cars (2006)</td>\n",
       "    </tr>\n",
       "    <tr>\n",
       "      <th>28</th>\n",
       "      <td>745</td>\n",
       "      <td>4.028067</td>\n",
       "      <td>Wallace &amp; Gromit: A Close Shave (1995)</td>\n",
       "    </tr>\n",
       "    <tr>\n",
       "      <th>29</th>\n",
       "      <td>357</td>\n",
       "      <td>4.021041</td>\n",
       "      <td>Four Weddings and a Funeral (1994)</td>\n",
       "    </tr>\n",
       "  </tbody>\n",
       "</table>\n",
       "</div>"
      ],
      "text/plain": [
       "    itemid  predictions                                              title\n",
       "0    97194     5.436833              Thing: Terror Takes Shape, The (1998)\n",
       "1    71033     4.993889  Secret in Their Eyes, The (El secreto de sus o...\n",
       "2     7065     4.973198                      Birth of a Nation, The (1915)\n",
       "3     8464     4.883735                               Super Size Me (2004)\n",
       "4    92259     4.812528                                Intouchables (2011)\n",
       "5     1203     4.643011                                12 Angry Men (1957)\n",
       "6     5444     4.627319                               Lilo & Stitch (2002)\n",
       "7     6016     4.597095                City of God (Cidade de Deus) (2002)\n",
       "8      335     4.519516                                  Underneath (1995)\n",
       "9    54286     4.464704                       Bourne Ultimatum, The (2007)\n",
       "10    5618     4.418804  Spirited Away (Sen to Chihiro no kamikakushi) ...\n",
       "11     178     4.390369                        Love & Human Remains (1993)\n",
       "12    3450     4.325613                              Grumpy Old Men (1993)\n",
       "13  106642     4.294706                      Day of the Doctor, The (2013)\n",
       "14     508     4.274174                                Philadelphia (1993)\n",
       "15  134326     4.225737                 The Taming of the Scoundrel (1980)\n",
       "16   47610     4.221846                            Illusionist, The (2006)\n",
       "17  136958     4.219179                                    Mortuary (1983)\n",
       "18    2248     4.180741                             Say Anything... (1989)\n",
       "19   56152     4.174128                                   Enchanted (2007)\n",
       "20   96821     4.171290            Perks of Being a Wallflower, The (2012)\n",
       "21    3586     4.163248                               The Idolmaker (1980)\n",
       "22   95583     4.101549                                     Savages (2012)\n",
       "23    1035     4.082255                         Sound of Music, The (1965)\n",
       "24  138835     4.066348                   Return to Treasure Island (1988)\n",
       "25    2762     4.053777                            Sixth Sense, The (1999)\n",
       "26  176579     4.051202                                   Cage Dive (2017)\n",
       "27   45517     4.048681                                        Cars (2006)\n",
       "28     745     4.028067             Wallace & Gromit: A Close Shave (1995)\n",
       "29     357     4.021041                 Four Weddings and a Funeral (1994)"
      ]
     },
     "execution_count": 16,
     "metadata": {},
     "output_type": "execute_result"
    }
   ],
   "source": [
    "# get list of top N items with their corresponding predicted ratings\n",
    "recommended_items, predictions = MF.recommend(userid=42)\n",
    "\n",
    "# find corresponding movie titles\n",
    "top_N = list(zip(recommended_items,predictions))\n",
    "top_N = pd.DataFrame(top_N, columns=['itemid','predictions'])\n",
    "List = pd.merge(top_N, movies, on='itemid', how='inner')\n",
    "\n",
    "# show the list\n",
    "List"
   ]
  },
  {
   "cell_type": "markdown",
   "metadata": {
    "colab_type": "text",
    "id": "ZPeVMap_wu2T"
   },
   "source": [
    "**Note**: The recommendation list may content items already purchased by the user. This is just an illustration of how to implement matrix factorization recommender system. You can optimize the recommended list and return the top rated items that the user has not already purchased."
   ]
  },
  {
   "cell_type": "markdown",
   "metadata": {
    "colab_type": "text",
    "id": "B-jjxDhex5Gs"
   },
   "source": [
    "## Reference\n",
    "\n",
    "1. Yehuda Koren et al. (2009). <a href='https://ieeexplore.ieee.org/document/5197422'>Matrix Factorization Techniques for Recommender Systems</a>"
   ]
  },
  {
   "cell_type": "markdown",
   "metadata": {
    "colab_type": "text",
    "id": "jV3Jj17ox_UR"
   },
   "source": [
    "## Author\n",
    "\n",
    "<a href=\"https://www.linkedin.com/in/carmel-wenga-871876178/\">Carmel WENGA</a>, Applied Machine Learning Research Engineer | <a href=\"https://shoppinglist.cm/fr/\">ShoppingList</a>, Nzhinusoft"
   ]
  }
 ],
 "metadata": {
  "colab": {
   "collapsed_sections": [],
   "name": "4. matrix factorization.ipynb",
   "provenance": []
  },
  "kernelspec": {
   "display_name": "RecSys",
   "language": "python",
   "name": "recsys"
  },
  "language_info": {
   "codemirror_mode": {
    "name": "ipython",
    "version": 3
   },
   "file_extension": ".py",
   "mimetype": "text/x-python",
   "name": "python",
   "nbconvert_exporter": "python",
   "pygments_lexer": "ipython3",
   "version": "3.6.10"
  }
 },
 "nbformat": 4,
 "nbformat_minor": 1
}
