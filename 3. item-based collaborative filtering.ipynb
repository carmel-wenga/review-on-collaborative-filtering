{
 "cells": [
  {
   "cell_type": "markdown",
   "metadata": {},
   "source": [
    "# Item-to-Item Collaborative Filtering"
   ]
  },
  {
   "cell_type": "markdown",
   "metadata": {},
   "source": [
    "## Idea\n",
    "Let $u$ be the active user and $i$ the referenced item\n",
    "1. If $u$ liked items similar to $i$, he will probably like item $i$.\n",
    "2. If he hated or disliked items similar to $i$, he will also hate item $i$.\n",
    "\n",
    "The idea is therefore to look at how an active user $u$ rated items similar to $i$ to know how he would have rated item $i$"
   ]
  },
  {
   "cell_type": "markdown",
   "metadata": {},
   "source": [
    "## Advantages over user-based CF\n",
    "\n",
    "1. <b> Stability </b> : Items ratings are more stable than users ratings. New ratings on items are unlikely to significantly change the similarity between two items, particularly when the items have many ratings <a href=\"https://dl.acm.org/doi/10.1561/1100000009\">(Michael D. Ekstrand, <i>et al.</i> 2011)</a>. \n",
    "2. <b> Scalability </b> : with stable item's ratings, it is reasonable to pre-compute similarities between items in an item-item similarity matrix (similarity between items can be computed offline). This will reduce the scalability concern of the algorithm. <a href=\"https://dl.acm.org/doi/10.1145/371920.372071\">(Sarwar <i>et al.</i> 2001)</a>, <a href=\"https://dl.acm.org/doi/10.1561/1100000009\">(Michael D. Ekstrand, <i>et al.</i> 2011)</a>."
   ]
  },
  {
   "cell_type": "markdown",
   "metadata": {},
   "source": [
    "## Algorithm : item-to-item collaborative filtering\n",
    "\n",
    "The algorithm that defines item-based CF is described as follow <a href=\"http://citeseerx.ist.psu.edu/viewdoc/download?doi=10.1.1.449.1171&rep=rep1&type=pdf\">(B. Sarwar et al. 2001)</a><a href=\"https://citeseerx.ist.psu.edu/viewdoc/download?doi=10.1.1.554.1671&rep=rep1&type=pdf\">(George Karypis 2001)</a> :\n",
    "\n",
    "1. First identify the $k$ most similar items for each item in the catalogue and record the corresponding similarities. To compute similarity between two items we can user the <i>Adjusted Cosine Similarity</i> that has proven to be more efficient than the basic <i>Cosine similarity measure</i> used for user-based collaborative as described in <a href=\"http://citeseerx.ist.psu.edu/viewdoc/download?doi=10.1.1.449.1171&rep=rep1&type=pdf\">(B. Sarwar et al. 2001)</a>. The Adjusted Cosine distance between two items $i$ and $j$ is computed as follow\n",
    "\n",
    "<center>\n",
    "$\n",
    "\\large\n",
    " w_{i,j}= \\frac{\\sum_{u\\in U}(r_{u,i}-\\bar{r}_u)(r_{u,j}-\\bar{r}_u)}{\\sqrt{\\sum_{u\\in U} (r_{u,i}-\\bar{r}_u)^2}\\sqrt{\\sum_{u\\in U} (r_{u,j}-\\bar{r}_u)^2}}\n",
    "$\n",
    "</center>\n",
    "\n",
    "$w_{i,j}$ is the degree of similarity between items $i$ and $j$. This term is computed for all users $u\\in U$, where $U$ is the set of users that rated both items $i$ and $j$. Let's denote by $S^{(i)}$ the set of the $k$ most similar items to item $i$.\n",
    "\n",
    "\n",
    "2. To produce top-N recommendations for a given user $u$ that has already purchased a set $I_u$ of items, do the following :\n",
    "\n",
    "    a. Find the set $C$ of candidate items by taking the union of all $S^{(i)}, \\forall i\\in I_u$ and removing each of the items in the set $I_u$.\n",
    "<center>\n",
    "$\n",
    " C = \\bigcup_{i\\in I_u}\\{S^{(i)}\\}\\smallsetminus I_u\n",
    "$\n",
    "</center>    \n",
    "    b. $\\forall c\\in C$, compute similarity between c and the set $I_u$ as follows:\n",
    "<center>\n",
    "$\n",
    " w_{c,I_u} = \\sum_{i\\in I_u} w_{c,i}, \\forall c \\in C\n",
    "$\n",
    "</center>\n",
    "    c. Sort items in $C$ in decreasing order of $w_{c,I_u}, \\forall c \\in C$, and return the first $N$ items as the Top-N recommendation list."
   ]
  },
  {
   "cell_type": "markdown",
   "metadata": {},
   "source": [
    "Before returning the first $N$ items as top-N recommendation list, we can make predictions about what user $u$ would have given to each items in the top-N recommendation list, rearrange the list in descending order of predicted ratings and return the rearranged list as the final recommendation list. Rating prediction for item-based CF is given by the following formular <a href=\"http://citeseerx.ist.psu.edu/viewdoc/download?doi=10.1.1.449.1171&rep=rep1&type=pdf\">(B. Sarwar et al. 2001)</a>:\n",
    "\n",
    "<center>\n",
    "$\n",
    "\\large\n",
    " \\hat{r}_{u,i}=\\frac{\\sum_{i\\in S^{(i)}}r_{u,j}\\cdot w_{i,j}}{\\sum_{j\\in S^{(i)}}|w_{i,j}|}\n",
    "$\n",
    "</center>"
   ]
  },
  {
   "cell_type": "markdown",
   "metadata": {},
   "source": [
    "### Import useful requirements"
   ]
  },
  {
   "cell_type": "code",
   "execution_count": 1,
   "metadata": {},
   "outputs": [],
   "source": [
    "from tools.utils import load_ratings, load_movies, download_data\n",
    "from sklearn.neighbors import NearestNeighbors\n",
    "from scipy.sparse import csr_matrix\n",
    "\n",
    "import pandas as pd\n",
    "import numpy as np\n",
    "import os"
   ]
  },
  {
   "cell_type": "markdown",
   "metadata": {},
   "source": [
    "Download movielen data if it doesn't exist"
   ]
  },
  {
   "cell_type": "code",
   "execution_count": 2,
   "metadata": {},
   "outputs": [
    {
     "name": "stdout",
     "output_type": "stream",
     "text": [
      "Data already exists ...\n"
     ]
    }
   ],
   "source": [
    "data = os.path.join('tools', 'ml-latest-small')\n",
    "\n",
    "if os.path.exists(data):\n",
    "    print('Data already exists ...')\n",
    "    ratings_csv, movies_csv = os.path.join(data, 'ratings.csv'), os.path.join(data, 'movies.csv')\n",
    "else:\n",
    "    ratings_csv, movies_csv = download_data()"
   ]
  },
  {
   "cell_type": "markdown",
   "metadata": {},
   "source": [
    "### Load ratings"
   ]
  },
  {
   "cell_type": "code",
   "execution_count": 3,
   "metadata": {},
   "outputs": [],
   "source": [
    "ratings, movies = load_ratings(ratings_csv), load_movies(movies_csv)"
   ]
  },
  {
   "cell_type": "code",
   "execution_count": 4,
   "metadata": {},
   "outputs": [],
   "source": [
    "itemids = sorted(ratings['itemid'].unique())"
   ]
  },
  {
   "cell_type": "code",
   "execution_count": 5,
   "metadata": {},
   "outputs": [],
   "source": [
    "itemids_to_idx = {itemid:idx for (itemid,idx) in zip(itemids, range(0, len(itemids)))}"
   ]
  },
  {
   "cell_type": "code",
   "execution_count": 6,
   "metadata": {},
   "outputs": [],
   "source": [
    "idx_to_itemids = {idx:itemid for (idx,itemid) in zip(range(0,len(itemids)),itemids)}"
   ]
  },
  {
   "cell_type": "code",
   "execution_count": 7,
   "metadata": {},
   "outputs": [
    {
     "data": {
      "text/html": [
       "<div>\n",
       "<style scoped>\n",
       "    .dataframe tbody tr th:only-of-type {\n",
       "        vertical-align: middle;\n",
       "    }\n",
       "\n",
       "    .dataframe tbody tr th {\n",
       "        vertical-align: top;\n",
       "    }\n",
       "\n",
       "    .dataframe thead th {\n",
       "        text-align: right;\n",
       "    }\n",
       "</style>\n",
       "<table border=\"1\" class=\"dataframe\">\n",
       "  <thead>\n",
       "    <tr style=\"text-align: right;\">\n",
       "      <th></th>\n",
       "      <th>userid</th>\n",
       "      <th>itemid</th>\n",
       "      <th>rating</th>\n",
       "    </tr>\n",
       "  </thead>\n",
       "  <tbody>\n",
       "    <tr>\n",
       "      <th>0</th>\n",
       "      <td>1</td>\n",
       "      <td>1</td>\n",
       "      <td>4.0</td>\n",
       "    </tr>\n",
       "    <tr>\n",
       "      <th>1</th>\n",
       "      <td>1</td>\n",
       "      <td>3</td>\n",
       "      <td>4.0</td>\n",
       "    </tr>\n",
       "    <tr>\n",
       "      <th>2</th>\n",
       "      <td>1</td>\n",
       "      <td>6</td>\n",
       "      <td>4.0</td>\n",
       "    </tr>\n",
       "    <tr>\n",
       "      <th>3</th>\n",
       "      <td>1</td>\n",
       "      <td>47</td>\n",
       "      <td>5.0</td>\n",
       "    </tr>\n",
       "    <tr>\n",
       "      <th>4</th>\n",
       "      <td>1</td>\n",
       "      <td>50</td>\n",
       "      <td>5.0</td>\n",
       "    </tr>\n",
       "    <tr>\n",
       "      <th>...</th>\n",
       "      <td>...</td>\n",
       "      <td>...</td>\n",
       "      <td>...</td>\n",
       "    </tr>\n",
       "    <tr>\n",
       "      <th>100831</th>\n",
       "      <td>610</td>\n",
       "      <td>166534</td>\n",
       "      <td>4.0</td>\n",
       "    </tr>\n",
       "    <tr>\n",
       "      <th>100832</th>\n",
       "      <td>610</td>\n",
       "      <td>168248</td>\n",
       "      <td>5.0</td>\n",
       "    </tr>\n",
       "    <tr>\n",
       "      <th>100833</th>\n",
       "      <td>610</td>\n",
       "      <td>168250</td>\n",
       "      <td>5.0</td>\n",
       "    </tr>\n",
       "    <tr>\n",
       "      <th>100834</th>\n",
       "      <td>610</td>\n",
       "      <td>168252</td>\n",
       "      <td>5.0</td>\n",
       "    </tr>\n",
       "    <tr>\n",
       "      <th>100835</th>\n",
       "      <td>610</td>\n",
       "      <td>170875</td>\n",
       "      <td>3.0</td>\n",
       "    </tr>\n",
       "  </tbody>\n",
       "</table>\n",
       "<p>100836 rows × 3 columns</p>\n",
       "</div>"
      ],
      "text/plain": [
       "        userid  itemid  rating\n",
       "0            1       1     4.0\n",
       "1            1       3     4.0\n",
       "2            1       6     4.0\n",
       "3            1      47     5.0\n",
       "4            1      50     5.0\n",
       "...        ...     ...     ...\n",
       "100831     610  166534     4.0\n",
       "100832     610  168248     5.0\n",
       "100833     610  168250     5.0\n",
       "100834     610  168252     5.0\n",
       "100835     610  170875     3.0\n",
       "\n",
       "[100836 rows x 3 columns]"
      ]
     },
     "execution_count": 7,
     "metadata": {},
     "output_type": "execute_result"
    }
   ],
   "source": [
    "ratings"
   ]
  },
  {
   "cell_type": "markdown",
   "metadata": {},
   "source": [
    "Let's implements the item-based collaborative filtering algorithm described above"
   ]
  },
  {
   "cell_type": "markdown",
   "metadata": {},
   "source": [
    "### Step 1. Find similarities for each of the items"
   ]
  },
  {
   "cell_type": "markdown",
   "metadata": {},
   "source": [
    "To compute similarity between two items $i$ and $j$, we need to :\n",
    "\n",
    "1. find all users who rated both of them,\n",
    "2. Normalize their ratings on items $i$ and $j$\n",
    "3. Apply the cosine metric to the normalized ratings to compute similarity between $i$ and $j$"
   ]
  },
  {
   "cell_type": "markdown",
   "metadata": {},
   "source": [
    "Function ```normalize()``` process the rating dataframe to normalize ratings of all users"
   ]
  },
  {
   "cell_type": "code",
   "execution_count": 8,
   "metadata": {},
   "outputs": [],
   "source": [
    "def normalize():\n",
    "    \"\"\"\n",
    "    \n",
    "    \"\"\"\n",
    "    # compute mean rating for each user\n",
    "    mean = ratings.groupby(by='userid', as_index=False)['rating'].mean()\n",
    "    norm_ratings = pd.merge(ratings, mean, suffixes=('','_mean'), on='userid')\n",
    "    \n",
    "    # normalize each rating by substracting the mean rating of the corresponding user\n",
    "    norm_ratings['norm_rating'] = norm_ratings['rating'] - norm_ratings['rating_mean']\n",
    "    \n",
    "    return mean, norm_ratings"
   ]
  },
  {
   "cell_type": "code",
   "execution_count": 9,
   "metadata": {},
   "outputs": [
    {
     "data": {
      "text/html": [
       "<div>\n",
       "<style scoped>\n",
       "    .dataframe tbody tr th:only-of-type {\n",
       "        vertical-align: middle;\n",
       "    }\n",
       "\n",
       "    .dataframe tbody tr th {\n",
       "        vertical-align: top;\n",
       "    }\n",
       "\n",
       "    .dataframe thead th {\n",
       "        text-align: right;\n",
       "    }\n",
       "</style>\n",
       "<table border=\"1\" class=\"dataframe\">\n",
       "  <thead>\n",
       "    <tr style=\"text-align: right;\">\n",
       "      <th></th>\n",
       "      <th>userid</th>\n",
       "      <th>itemid</th>\n",
       "      <th>rating</th>\n",
       "      <th>rating_mean</th>\n",
       "      <th>norm_rating</th>\n",
       "    </tr>\n",
       "  </thead>\n",
       "  <tbody>\n",
       "    <tr>\n",
       "      <th>0</th>\n",
       "      <td>1</td>\n",
       "      <td>1</td>\n",
       "      <td>4.0</td>\n",
       "      <td>4.366379</td>\n",
       "      <td>-0.366379</td>\n",
       "    </tr>\n",
       "    <tr>\n",
       "      <th>1</th>\n",
       "      <td>1</td>\n",
       "      <td>3</td>\n",
       "      <td>4.0</td>\n",
       "      <td>4.366379</td>\n",
       "      <td>-0.366379</td>\n",
       "    </tr>\n",
       "    <tr>\n",
       "      <th>2</th>\n",
       "      <td>1</td>\n",
       "      <td>6</td>\n",
       "      <td>4.0</td>\n",
       "      <td>4.366379</td>\n",
       "      <td>-0.366379</td>\n",
       "    </tr>\n",
       "    <tr>\n",
       "      <th>3</th>\n",
       "      <td>1</td>\n",
       "      <td>47</td>\n",
       "      <td>5.0</td>\n",
       "      <td>4.366379</td>\n",
       "      <td>0.633621</td>\n",
       "    </tr>\n",
       "    <tr>\n",
       "      <th>4</th>\n",
       "      <td>1</td>\n",
       "      <td>50</td>\n",
       "      <td>5.0</td>\n",
       "      <td>4.366379</td>\n",
       "      <td>0.633621</td>\n",
       "    </tr>\n",
       "  </tbody>\n",
       "</table>\n",
       "</div>"
      ],
      "text/plain": [
       "   userid  itemid  rating  rating_mean  norm_rating\n",
       "0       1       1     4.0     4.366379    -0.366379\n",
       "1       1       3     4.0     4.366379    -0.366379\n",
       "2       1       6     4.0     4.366379    -0.366379\n",
       "3       1      47     5.0     4.366379     0.633621\n",
       "4       1      50     5.0     4.366379     0.633621"
      ]
     },
     "execution_count": 9,
     "metadata": {},
     "output_type": "execute_result"
    }
   ],
   "source": [
    "mean, norm_ratings = normalize()\n",
    "norm_ratings.head()"
   ]
  },
  {
   "cell_type": "markdown",
   "metadata": {},
   "source": [
    "now that each rating has been normalized, we can represent each item by a vector of its normalized ratings"
   ]
  },
  {
   "cell_type": "code",
   "execution_count": 10,
   "metadata": {},
   "outputs": [],
   "source": [
    "def item_representation(norm_ratings):\n",
    "    \"\"\"\n",
    "    \n",
    "    \"\"\"\n",
    "    \n",
    "    df = pd.crosstab(norm_ratings.itemid, norm_ratings.userid, norm_ratings.norm_rating, aggfunc=sum)\n",
    "    df = df.fillna(0)\n",
    "\n",
    "    R = csr_matrix(df.values)\n",
    "    \n",
    "    return R, df"
   ]
  },
  {
   "cell_type": "code",
   "execution_count": 11,
   "metadata": {},
   "outputs": [],
   "source": [
    "R, df = item_representation(norm_ratings)"
   ]
  },
  {
   "cell_type": "code",
   "execution_count": 12,
   "metadata": {},
   "outputs": [
    {
     "data": {
      "text/html": [
       "<div>\n",
       "<style scoped>\n",
       "    .dataframe tbody tr th:only-of-type {\n",
       "        vertical-align: middle;\n",
       "    }\n",
       "\n",
       "    .dataframe tbody tr th {\n",
       "        vertical-align: top;\n",
       "    }\n",
       "\n",
       "    .dataframe thead th {\n",
       "        text-align: right;\n",
       "    }\n",
       "</style>\n",
       "<table border=\"1\" class=\"dataframe\">\n",
       "  <thead>\n",
       "    <tr style=\"text-align: right;\">\n",
       "      <th>userid</th>\n",
       "      <th>1</th>\n",
       "      <th>2</th>\n",
       "      <th>3</th>\n",
       "      <th>4</th>\n",
       "      <th>5</th>\n",
       "      <th>6</th>\n",
       "      <th>7</th>\n",
       "      <th>8</th>\n",
       "      <th>9</th>\n",
       "      <th>10</th>\n",
       "      <th>...</th>\n",
       "      <th>601</th>\n",
       "      <th>602</th>\n",
       "      <th>603</th>\n",
       "      <th>604</th>\n",
       "      <th>605</th>\n",
       "      <th>606</th>\n",
       "      <th>607</th>\n",
       "      <th>608</th>\n",
       "      <th>609</th>\n",
       "      <th>610</th>\n",
       "    </tr>\n",
       "    <tr>\n",
       "      <th>itemid</th>\n",
       "      <th></th>\n",
       "      <th></th>\n",
       "      <th></th>\n",
       "      <th></th>\n",
       "      <th></th>\n",
       "      <th></th>\n",
       "      <th></th>\n",
       "      <th></th>\n",
       "      <th></th>\n",
       "      <th></th>\n",
       "      <th></th>\n",
       "      <th></th>\n",
       "      <th></th>\n",
       "      <th></th>\n",
       "      <th></th>\n",
       "      <th></th>\n",
       "      <th></th>\n",
       "      <th></th>\n",
       "      <th></th>\n",
       "      <th></th>\n",
       "      <th></th>\n",
       "    </tr>\n",
       "  </thead>\n",
       "  <tbody>\n",
       "    <tr>\n",
       "      <th>1</th>\n",
       "      <td>-0.366379</td>\n",
       "      <td>0.0</td>\n",
       "      <td>0.0</td>\n",
       "      <td>0.0</td>\n",
       "      <td>0.363636</td>\n",
       "      <td>0.000000</td>\n",
       "      <td>1.269737</td>\n",
       "      <td>0.000000</td>\n",
       "      <td>0.0</td>\n",
       "      <td>0.0</td>\n",
       "      <td>...</td>\n",
       "      <td>-0.425743</td>\n",
       "      <td>0.000000</td>\n",
       "      <td>0.492047</td>\n",
       "      <td>-0.48</td>\n",
       "      <td>0.789593</td>\n",
       "      <td>-1.157399</td>\n",
       "      <td>0.213904</td>\n",
       "      <td>-0.634176</td>\n",
       "      <td>-0.27027</td>\n",
       "      <td>1.311444</td>\n",
       "    </tr>\n",
       "    <tr>\n",
       "      <th>2</th>\n",
       "      <td>0.000000</td>\n",
       "      <td>0.0</td>\n",
       "      <td>0.0</td>\n",
       "      <td>0.0</td>\n",
       "      <td>0.000000</td>\n",
       "      <td>0.506369</td>\n",
       "      <td>0.000000</td>\n",
       "      <td>0.425532</td>\n",
       "      <td>0.0</td>\n",
       "      <td>0.0</td>\n",
       "      <td>...</td>\n",
       "      <td>0.000000</td>\n",
       "      <td>0.607407</td>\n",
       "      <td>0.000000</td>\n",
       "      <td>1.52</td>\n",
       "      <td>0.289593</td>\n",
       "      <td>0.000000</td>\n",
       "      <td>0.000000</td>\n",
       "      <td>-1.134176</td>\n",
       "      <td>0.00000</td>\n",
       "      <td>0.000000</td>\n",
       "    </tr>\n",
       "    <tr>\n",
       "      <th>3</th>\n",
       "      <td>-0.366379</td>\n",
       "      <td>0.0</td>\n",
       "      <td>0.0</td>\n",
       "      <td>0.0</td>\n",
       "      <td>0.000000</td>\n",
       "      <td>1.506369</td>\n",
       "      <td>0.000000</td>\n",
       "      <td>0.000000</td>\n",
       "      <td>0.0</td>\n",
       "      <td>0.0</td>\n",
       "      <td>...</td>\n",
       "      <td>0.000000</td>\n",
       "      <td>0.000000</td>\n",
       "      <td>0.000000</td>\n",
       "      <td>0.00</td>\n",
       "      <td>0.000000</td>\n",
       "      <td>0.000000</td>\n",
       "      <td>0.000000</td>\n",
       "      <td>-1.134176</td>\n",
       "      <td>0.00000</td>\n",
       "      <td>0.000000</td>\n",
       "    </tr>\n",
       "    <tr>\n",
       "      <th>4</th>\n",
       "      <td>0.000000</td>\n",
       "      <td>0.0</td>\n",
       "      <td>0.0</td>\n",
       "      <td>0.0</td>\n",
       "      <td>0.000000</td>\n",
       "      <td>-0.493631</td>\n",
       "      <td>0.000000</td>\n",
       "      <td>0.000000</td>\n",
       "      <td>0.0</td>\n",
       "      <td>0.0</td>\n",
       "      <td>...</td>\n",
       "      <td>0.000000</td>\n",
       "      <td>0.000000</td>\n",
       "      <td>0.000000</td>\n",
       "      <td>0.00</td>\n",
       "      <td>0.000000</td>\n",
       "      <td>0.000000</td>\n",
       "      <td>0.000000</td>\n",
       "      <td>0.000000</td>\n",
       "      <td>0.00000</td>\n",
       "      <td>0.000000</td>\n",
       "    </tr>\n",
       "    <tr>\n",
       "      <th>5</th>\n",
       "      <td>0.000000</td>\n",
       "      <td>0.0</td>\n",
       "      <td>0.0</td>\n",
       "      <td>0.0</td>\n",
       "      <td>0.000000</td>\n",
       "      <td>1.506369</td>\n",
       "      <td>0.000000</td>\n",
       "      <td>0.000000</td>\n",
       "      <td>0.0</td>\n",
       "      <td>0.0</td>\n",
       "      <td>...</td>\n",
       "      <td>0.000000</td>\n",
       "      <td>0.000000</td>\n",
       "      <td>0.000000</td>\n",
       "      <td>-0.48</td>\n",
       "      <td>0.000000</td>\n",
       "      <td>0.000000</td>\n",
       "      <td>0.000000</td>\n",
       "      <td>0.000000</td>\n",
       "      <td>0.00000</td>\n",
       "      <td>0.000000</td>\n",
       "    </tr>\n",
       "    <tr>\n",
       "      <th>...</th>\n",
       "      <td>...</td>\n",
       "      <td>...</td>\n",
       "      <td>...</td>\n",
       "      <td>...</td>\n",
       "      <td>...</td>\n",
       "      <td>...</td>\n",
       "      <td>...</td>\n",
       "      <td>...</td>\n",
       "      <td>...</td>\n",
       "      <td>...</td>\n",
       "      <td>...</td>\n",
       "      <td>...</td>\n",
       "      <td>...</td>\n",
       "      <td>...</td>\n",
       "      <td>...</td>\n",
       "      <td>...</td>\n",
       "      <td>...</td>\n",
       "      <td>...</td>\n",
       "      <td>...</td>\n",
       "      <td>...</td>\n",
       "      <td>...</td>\n",
       "    </tr>\n",
       "    <tr>\n",
       "      <th>193581</th>\n",
       "      <td>0.000000</td>\n",
       "      <td>0.0</td>\n",
       "      <td>0.0</td>\n",
       "      <td>0.0</td>\n",
       "      <td>0.000000</td>\n",
       "      <td>0.000000</td>\n",
       "      <td>0.000000</td>\n",
       "      <td>0.000000</td>\n",
       "      <td>0.0</td>\n",
       "      <td>0.0</td>\n",
       "      <td>...</td>\n",
       "      <td>0.000000</td>\n",
       "      <td>0.000000</td>\n",
       "      <td>0.000000</td>\n",
       "      <td>0.00</td>\n",
       "      <td>0.000000</td>\n",
       "      <td>0.000000</td>\n",
       "      <td>0.000000</td>\n",
       "      <td>0.000000</td>\n",
       "      <td>0.00000</td>\n",
       "      <td>0.000000</td>\n",
       "    </tr>\n",
       "    <tr>\n",
       "      <th>193583</th>\n",
       "      <td>0.000000</td>\n",
       "      <td>0.0</td>\n",
       "      <td>0.0</td>\n",
       "      <td>0.0</td>\n",
       "      <td>0.000000</td>\n",
       "      <td>0.000000</td>\n",
       "      <td>0.000000</td>\n",
       "      <td>0.000000</td>\n",
       "      <td>0.0</td>\n",
       "      <td>0.0</td>\n",
       "      <td>...</td>\n",
       "      <td>0.000000</td>\n",
       "      <td>0.000000</td>\n",
       "      <td>0.000000</td>\n",
       "      <td>0.00</td>\n",
       "      <td>0.000000</td>\n",
       "      <td>0.000000</td>\n",
       "      <td>0.000000</td>\n",
       "      <td>0.000000</td>\n",
       "      <td>0.00000</td>\n",
       "      <td>0.000000</td>\n",
       "    </tr>\n",
       "    <tr>\n",
       "      <th>193585</th>\n",
       "      <td>0.000000</td>\n",
       "      <td>0.0</td>\n",
       "      <td>0.0</td>\n",
       "      <td>0.0</td>\n",
       "      <td>0.000000</td>\n",
       "      <td>0.000000</td>\n",
       "      <td>0.000000</td>\n",
       "      <td>0.000000</td>\n",
       "      <td>0.0</td>\n",
       "      <td>0.0</td>\n",
       "      <td>...</td>\n",
       "      <td>0.000000</td>\n",
       "      <td>0.000000</td>\n",
       "      <td>0.000000</td>\n",
       "      <td>0.00</td>\n",
       "      <td>0.000000</td>\n",
       "      <td>0.000000</td>\n",
       "      <td>0.000000</td>\n",
       "      <td>0.000000</td>\n",
       "      <td>0.00000</td>\n",
       "      <td>0.000000</td>\n",
       "    </tr>\n",
       "    <tr>\n",
       "      <th>193587</th>\n",
       "      <td>0.000000</td>\n",
       "      <td>0.0</td>\n",
       "      <td>0.0</td>\n",
       "      <td>0.0</td>\n",
       "      <td>0.000000</td>\n",
       "      <td>0.000000</td>\n",
       "      <td>0.000000</td>\n",
       "      <td>0.000000</td>\n",
       "      <td>0.0</td>\n",
       "      <td>0.0</td>\n",
       "      <td>...</td>\n",
       "      <td>0.000000</td>\n",
       "      <td>0.000000</td>\n",
       "      <td>0.000000</td>\n",
       "      <td>0.00</td>\n",
       "      <td>0.000000</td>\n",
       "      <td>0.000000</td>\n",
       "      <td>0.000000</td>\n",
       "      <td>0.000000</td>\n",
       "      <td>0.00000</td>\n",
       "      <td>0.000000</td>\n",
       "    </tr>\n",
       "    <tr>\n",
       "      <th>193609</th>\n",
       "      <td>0.000000</td>\n",
       "      <td>0.0</td>\n",
       "      <td>0.0</td>\n",
       "      <td>0.0</td>\n",
       "      <td>0.000000</td>\n",
       "      <td>0.000000</td>\n",
       "      <td>0.000000</td>\n",
       "      <td>0.000000</td>\n",
       "      <td>0.0</td>\n",
       "      <td>0.0</td>\n",
       "      <td>...</td>\n",
       "      <td>0.000000</td>\n",
       "      <td>0.000000</td>\n",
       "      <td>0.000000</td>\n",
       "      <td>0.00</td>\n",
       "      <td>0.000000</td>\n",
       "      <td>0.000000</td>\n",
       "      <td>0.000000</td>\n",
       "      <td>0.000000</td>\n",
       "      <td>0.00000</td>\n",
       "      <td>0.000000</td>\n",
       "    </tr>\n",
       "  </tbody>\n",
       "</table>\n",
       "<p>9724 rows × 610 columns</p>\n",
       "</div>"
      ],
      "text/plain": [
       "userid       1    2    3    4         5         6         7         8    9    \\\n",
       "itemid                                                                         \n",
       "1      -0.366379  0.0  0.0  0.0  0.363636  0.000000  1.269737  0.000000  0.0   \n",
       "2       0.000000  0.0  0.0  0.0  0.000000  0.506369  0.000000  0.425532  0.0   \n",
       "3      -0.366379  0.0  0.0  0.0  0.000000  1.506369  0.000000  0.000000  0.0   \n",
       "4       0.000000  0.0  0.0  0.0  0.000000 -0.493631  0.000000  0.000000  0.0   \n",
       "5       0.000000  0.0  0.0  0.0  0.000000  1.506369  0.000000  0.000000  0.0   \n",
       "...          ...  ...  ...  ...       ...       ...       ...       ...  ...   \n",
       "193581  0.000000  0.0  0.0  0.0  0.000000  0.000000  0.000000  0.000000  0.0   \n",
       "193583  0.000000  0.0  0.0  0.0  0.000000  0.000000  0.000000  0.000000  0.0   \n",
       "193585  0.000000  0.0  0.0  0.0  0.000000  0.000000  0.000000  0.000000  0.0   \n",
       "193587  0.000000  0.0  0.0  0.0  0.000000  0.000000  0.000000  0.000000  0.0   \n",
       "193609  0.000000  0.0  0.0  0.0  0.000000  0.000000  0.000000  0.000000  0.0   \n",
       "\n",
       "userid  10   ...       601       602       603   604       605       606  \\\n",
       "itemid       ...                                                           \n",
       "1       0.0  ... -0.425743  0.000000  0.492047 -0.48  0.789593 -1.157399   \n",
       "2       0.0  ...  0.000000  0.607407  0.000000  1.52  0.289593  0.000000   \n",
       "3       0.0  ...  0.000000  0.000000  0.000000  0.00  0.000000  0.000000   \n",
       "4       0.0  ...  0.000000  0.000000  0.000000  0.00  0.000000  0.000000   \n",
       "5       0.0  ...  0.000000  0.000000  0.000000 -0.48  0.000000  0.000000   \n",
       "...     ...  ...       ...       ...       ...   ...       ...       ...   \n",
       "193581  0.0  ...  0.000000  0.000000  0.000000  0.00  0.000000  0.000000   \n",
       "193583  0.0  ...  0.000000  0.000000  0.000000  0.00  0.000000  0.000000   \n",
       "193585  0.0  ...  0.000000  0.000000  0.000000  0.00  0.000000  0.000000   \n",
       "193587  0.0  ...  0.000000  0.000000  0.000000  0.00  0.000000  0.000000   \n",
       "193609  0.0  ...  0.000000  0.000000  0.000000  0.00  0.000000  0.000000   \n",
       "\n",
       "userid       607       608      609       610  \n",
       "itemid                                         \n",
       "1       0.213904 -0.634176 -0.27027  1.311444  \n",
       "2       0.000000 -1.134176  0.00000  0.000000  \n",
       "3       0.000000 -1.134176  0.00000  0.000000  \n",
       "4       0.000000  0.000000  0.00000  0.000000  \n",
       "5       0.000000  0.000000  0.00000  0.000000  \n",
       "...          ...       ...      ...       ...  \n",
       "193581  0.000000  0.000000  0.00000  0.000000  \n",
       "193583  0.000000  0.000000  0.00000  0.000000  \n",
       "193585  0.000000  0.000000  0.00000  0.000000  \n",
       "193587  0.000000  0.000000  0.00000  0.000000  \n",
       "193609  0.000000  0.000000  0.00000  0.000000  \n",
       "\n",
       "[9724 rows x 610 columns]"
      ]
     },
     "execution_count": 12,
     "metadata": {},
     "output_type": "execute_result"
    }
   ],
   "source": [
    "df"
   ]
  },
  {
   "cell_type": "markdown",
   "metadata": {},
   "source": [
    "```df``` is a cross table dataframe where rows are items and columns are users. Each row represents the vector of normalized ratings attributed to the corresponding item. Missing values are filled with zeros (0). ```R``` is the numpy array corresponding to ```df``` that will be fitted to a $k$-NN model."
   ]
  },
  {
   "cell_type": "markdown",
   "metadata": {},
   "source": [
    "Let's build and fit our $k$-NN model using sklearn"
   ]
  },
  {
   "cell_type": "code",
   "execution_count": 13,
   "metadata": {},
   "outputs": [],
   "source": [
    "def create_model(R, k):\n",
    "    \"\"\"\n",
    "    :param\n",
    "        R : numpy array of item representations\n",
    "        k : number of nearest neighbors to return\n",
    "    \n",
    "    :return\n",
    "        model : our knn model\n",
    "    \"\"\"\n",
    "    \n",
    "    # create the nearest neighbors model\n",
    "    model = NearestNeighbors(metric='cosine', n_neighbors=k+1, algorithm='brute')\n",
    "    \n",
    "    # fit the model with ratings\n",
    "    model.fit(R)\n",
    "    \n",
    "    return model"
   ]
  },
  {
   "cell_type": "markdown",
   "metadata": {},
   "source": [
    "Function ```nearest_neighbors()``` compute nearest neighbors"
   ]
  },
  {
   "cell_type": "code",
   "execution_count": 14,
   "metadata": {},
   "outputs": [],
   "source": [
    "def nearest_neighbors(R, model):\n",
    "    \"\"\"\n",
    "    compute the top 30 similar items for each item.\n",
    "    \n",
    "    :param\n",
    "        - R : items representations\n",
    "        - model : nearest neighbors model\n",
    "    \n",
    "    :return\n",
    "        - similarities\n",
    "        - neighbors\n",
    "    \"\"\"\n",
    "    \n",
    "    similarities, neighbors = model.kneighbors(R)\n",
    "    \n",
    "    similarities = 1 - np.squeeze(similarities)\n",
    "    neighbors = np.squeeze(neighbors)\n",
    "    \n",
    "    for idx in range(similarities.shape[0]):\n",
    "        similarities[idx][0] = 0\n",
    "        \n",
    "    return similarities, neighbors"
   ]
  },
  {
   "cell_type": "markdown",
   "metadata": {},
   "source": [
    "Let's call functions ```create_model()``` and ```nearest_neighbors()``` to respectively create the $k$-NN model (with $k=30$) and compute the nearest neighbors for all items in our database"
   ]
  },
  {
   "cell_type": "code",
   "execution_count": 15,
   "metadata": {},
   "outputs": [],
   "source": [
    "model = create_model(R, k=30)"
   ]
  },
  {
   "cell_type": "code",
   "execution_count": null,
   "metadata": {},
   "outputs": [],
   "source": [
    "similarities, neighbors = nearest_neighbors(R, model)"
   ]
  },
  {
   "cell_type": "code",
   "execution_count": null,
   "metadata": {},
   "outputs": [],
   "source": [
    "print('neighbors shape : ', neighbors.shape)\n",
    "print('similarities shape : ', similarities.shape)"
   ]
  },
  {
   "cell_type": "markdown",
   "metadata": {},
   "source": [
    "```neighbors``` and ```similarities``` are numpy array, were each entries are list of $30$ neighbors with their corresponding similarities"
   ]
  },
  {
   "cell_type": "markdown",
   "metadata": {},
   "source": [
    "### Step 2. Top N recommendation for a given user"
   ]
  },
  {
   "cell_type": "markdown",
   "metadata": {},
   "source": [
    "Top-N recommendations are made for example for a user $u$ who has already rated a set of items $I_u$"
   ]
  },
  {
   "cell_type": "markdown",
   "metadata": {},
   "source": [
    "#### 2.a- Finding candidate items\n",
    "\n",
    "To find candidate items for user $u$, we need to :\n",
    "\n",
    "1. Find the set $I_u$ of items already rated by user $u$,\n",
    "2. Take the union of similar items as $C$ for all items in $I_u$\n",
    "3. exclude from the set $C$ all items in $I_u$, to avoid recommend to a user items he has already purchased.\n",
    "\n",
    "These are done in function ```candidate_items()```"
   ]
  },
  {
   "cell_type": "code",
   "execution_count": null,
   "metadata": {},
   "outputs": [],
   "source": [
    "def candidate_items(userid):\n",
    "    \"\"\"\n",
    "    :param\n",
    "        - userid : user id for which we wish to find candidate items\n",
    "    \n",
    "    :return\n",
    "        - I_u : list of items already purchased by userid\n",
    "        - candidates : list of candidate items\n",
    "    \"\"\"\n",
    "    \n",
    "    # 1. Finding the set I_u of items already rated by user userid\n",
    "    I_u = ratings.loc[ratings.userid == userid].itemid.to_list()\n",
    "    \n",
    "    # 2. Taking the union of similar items for all items in I_u to form the set of candidate items\n",
    "    C = set()\n",
    "    \n",
    "    for iid in I_u:        \n",
    "        # get the index of item iid in the nearest neighbors set\n",
    "        idx = itemids_to_idx[iid]\n",
    "        \n",
    "        # add the neighbors of item iid in the set of candidate items\n",
    "        \n",
    "        C.update([ idx_to_itemids[ix] for ix in neighbors[idx]])\n",
    "        \n",
    "    C = list(C)\n",
    "    \n",
    "    # 3. exclude from the set C all items in I_u.\n",
    "    candidates = np.setdiff1d(C, I_u, assume_unique=True)\n",
    "    \n",
    "    return I_u, candidates"
   ]
  },
  {
   "cell_type": "code",
   "execution_count": null,
   "metadata": {},
   "outputs": [],
   "source": [
    "i_u, u_candidates = candidate_items(514)"
   ]
  },
  {
   "cell_type": "code",
   "execution_count": null,
   "metadata": {},
   "outputs": [],
   "source": [
    "print('number of items purchased by user 514 : ', len(i_u))\n",
    "print('number of candidate items for user 514 : ', len(u_candidates))"
   ]
  },
  {
   "cell_type": "code",
   "execution_count": null,
   "metadata": {},
   "outputs": [],
   "source": [
    "u_candidates"
   ]
  },
  {
   "cell_type": "markdown",
   "metadata": {},
   "source": [
    "#### 2.b- Find similarity between each candidate item and the set $I_u$"
   ]
  },
  {
   "cell_type": "code",
   "execution_count": null,
   "metadata": {},
   "outputs": [],
   "source": [
    "def similarity_with_Iu(c, I_u):\n",
    "    \"\"\"\n",
    "    compute similarity between an item c and a set of items I_u. For each item i in I_u, get similarity between \n",
    "    i and c, if c exists in the set of items similar to itemid\n",
    "    \n",
    "    :param\n",
    "        - c : itemid of a candidate item\n",
    "        - I_u : set of items already purchased by a given user\n",
    "    \n",
    "    :return\n",
    "        - w : similarity between c and I_u\n",
    "    \"\"\"\n",
    "    w = 0    \n",
    "    for i in I_u :        \n",
    "        # idx of item i in nearest neighbors set\n",
    "        idx = itemids_to_idx[i]\n",
    "        \n",
    "        # get similarity between itemid and c, if c is one of the k nearest neighbors of itemid\n",
    "        if c in neighbors[idx] :\n",
    "            i_similarities = similarities[idx]\n",
    "            w = w + i_similarities[list(neighbors[idx]).index(c)]\n",
    "    \n",
    "    return w"
   ]
  },
  {
   "cell_type": "markdown",
   "metadata": {},
   "source": [
    "#### 2.c- Rank candidate items according to their similarities to $I_u$"
   ]
  },
  {
   "cell_type": "code",
   "execution_count": null,
   "metadata": {},
   "outputs": [],
   "source": [
    "def rank_candidates(candidates, I_u):\n",
    "    \"\"\"\n",
    "    rank candidate items according to their similarities with I_u\n",
    "    \n",
    "    :param\n",
    "        - candidates : list of candidate items\n",
    "        - I_u : list of items purchased by the user\n",
    "    \n",
    "    :return:\n",
    "        - ranked_candidates : dataframe of candidate items, ranked in descending order of similarities with I_u\n",
    "    \"\"\"\n",
    "    \n",
    "    # list of candidate items mapped to their corresponding similarities to I_u \n",
    "    mapping = []\n",
    "    for c in candidates:\n",
    "        # compute similarity between c and I_u\n",
    "        w = similarity_with_Iu(c, I_u)\n",
    "        mapping.append((c,w))\n",
    "\n",
    "    ranked_candidates = pd.DataFrame(mapping, columns=['itemid','similarity_with_Iu'])\n",
    "    \n",
    "    # rank candidate items according to their similarities\n",
    "    ranked_candidates = ranked_candidates.sort_values(by=['similarity_with_Iu'], ascending=False)\n",
    "    \n",
    "    return ranked_candidates\n",
    "        "
   ]
  },
  {
   "cell_type": "markdown",
   "metadata": {},
   "source": [
    "## Putting all together"
   ]
  },
  {
   "cell_type": "markdown",
   "metadata": {},
   "source": [
    "Now that we defined all functions necessary to build our item to item top-N recommendation, let's define function ```item2item_topN()``` that makes top-$N$ recommendations for a given user "
   ]
  },
  {
   "cell_type": "code",
   "execution_count": null,
   "metadata": {},
   "outputs": [],
   "source": [
    "def item2item_topN(userid, N=30):\n",
    "    \"\"\"\n",
    "    Produce top-N recommendation for a given user\n",
    "    \n",
    "    :param\n",
    "        - userid : user for which we produce top-N recommendation\n",
    "        - N : length of the top-N recommendation list\n",
    "    \n",
    "    :return\n",
    "        - topN_list\n",
    "    \"\"\"\n",
    "    # find candidate items\n",
    "    I_u, candidates = candidate_items(userid)\n",
    "    \n",
    "    # rank candidate items according to their similarities with I_u\n",
    "    ranked_candidates = rank_candidates(candidates, I_u)\n",
    "    \n",
    "    # get the first N row of ranked_candidates to build the top N recommendation list\n",
    "    topN_list = ranked_candidates.iloc[:N]\n",
    "    \n",
    "    topN_list = pd.merge(topN_list, movies, on='itemid', how='inner')\n",
    "    \n",
    "    return topN_list"
   ]
  },
  {
   "cell_type": "code",
   "execution_count": null,
   "metadata": {},
   "outputs": [],
   "source": [
    "topN = item2item_topN(514)"
   ]
  },
  {
   "cell_type": "code",
   "execution_count": null,
   "metadata": {},
   "outputs": [],
   "source": [
    "topN"
   ]
  },
  {
   "cell_type": "markdown",
   "metadata": {},
   "source": [
    "The ```topN``` dataframe represents the top N recommendation list a user. These items are sorted in decreasing order of similarities with $I_u$.\n",
    "\n",
    "<b>Observation</b> : The recommended items are the most similar to the set $I_u$ of items already purchased by the user."
   ]
  },
  {
   "cell_type": "markdown",
   "metadata": {},
   "source": [
    "## Top N recommendation with predictions"
   ]
  },
  {
   "cell_type": "markdown",
   "metadata": {},
   "source": [
    "Before recommending the previous list to the user, we can go further and predict the ratings the user would have given to each of these items, sort them in descending order of prediction and return the reordered list as the new top N recommendation list."
   ]
  },
  {
   "cell_type": "markdown",
   "metadata": {},
   "source": [
    "### Rating prediction\n",
    "\n",
    "As stated earlier, the predicted rating $\\hat{r}_{u,i}$ for a given user $u$ on an item $i$ is obtained by aggregating ratings given by $u$ on items similar to $i$ as follows:\n",
    "\n",
    "<center>\n",
    "$\n",
    "\\large\n",
    " \\hat{r}_{u,i}=\\frac{\\sum_{j\\in S^{(i)}}r_{u,j}\\cdot w_{i,j}}{\\sum_{j\\in S^{(i)}}|w_{i,j}|}\n",
    "$\n",
    "</center>"
   ]
  },
  {
   "cell_type": "code",
   "execution_count": null,
   "metadata": {},
   "outputs": [],
   "source": [
    "def predict(userid, itemid):\n",
    "    \"\"\"\n",
    "    Make rating prediction for user userid on item itemid\n",
    "    \n",
    "    :param\n",
    "        - userid : id of the active user\n",
    "        - itemid : id of the item for which we are making prediction\n",
    "        \n",
    "    :return\n",
    "        - r_hat : predicted rating\n",
    "    \"\"\"\n",
    "    \n",
    "    # index of itemid in the nearest neighbors space\n",
    "    idx = itemids_to_idx[itemid]\n",
    "    \n",
    "    # Get items similar to item itemid with their corresponding similarities\n",
    "    i_neighbors = neighbors[idx][1:]\n",
    "    i_similarities = similarities[idx][1:]\n",
    "    \n",
    "    # initialize denominator\n",
    "    W = 0\n",
    "    \n",
    "    # initialize numerator\n",
    "    weighted_sum = 0\n",
    "    \n",
    "    for iid in i_neighbors:\n",
    "        # get rating of userid on iid if exists\n",
    "        if ((ratings.userid==userid) & (ratings.itemid==iid)).any():\n",
    "            r = ratings[(ratings.userid==userid) & (ratings.itemid==iid)].rating.values[0]\n",
    "            \n",
    "            # get similarity between iid and itemid\n",
    "            w = i_similarities[list(i_neighbors).index(iid)]\n",
    "            \n",
    "            # update denominator\n",
    "            W = W + abs(w)\n",
    "            \n",
    "            # update numerator\n",
    "            weighted_sum = weighted_sum + r * w\n",
    "            \n",
    "    if weighted_sum == 0:\n",
    "        r_hat = mean[mean.userid==userid].rating.values[0]\n",
    "    else:    \n",
    "        # predicted rating\n",
    "        r_hat = weighted_sum / W\n",
    "    \n",
    "    return r_hat"
   ]
  },
  {
   "cell_type": "markdown",
   "metadata": {},
   "source": [
    "Let's check if this function predicts reasonable scores ..."
   ]
  },
  {
   "cell_type": "code",
   "execution_count": null,
   "metadata": {},
   "outputs": [],
   "source": [
    "ratings.head()"
   ]
  },
  {
   "cell_type": "code",
   "execution_count": null,
   "metadata": {},
   "outputs": [],
   "source": [
    "predict(1,1)"
   ]
  },
  {
   "cell_type": "code",
   "execution_count": null,
   "metadata": {},
   "outputs": [],
   "source": [
    "predict(1,3)"
   ]
  },
  {
   "cell_type": "code",
   "execution_count": null,
   "metadata": {},
   "outputs": [],
   "source": [
    "predict(1,47)"
   ]
  },
  {
   "cell_type": "markdown",
   "metadata": {},
   "source": [
    "Now let's use our ```predict()``` function to predict what ratings the user would have given to the previous top-$N$ list and return the reorganised list (in decreasing order of predictions) as the new top-$N$ list"
   ]
  },
  {
   "cell_type": "code",
   "execution_count": null,
   "metadata": {},
   "outputs": [],
   "source": [
    "def topN_with_prediction(userid):\n",
    "    \"\"\"\n",
    "    :param\n",
    "        - userid : id of the active user\n",
    "    \n",
    "    :return\n",
    "        - topN_list : initial topN recommendations returned by the function item2item_topN\n",
    "        - topN_predict : topN recommendations reordered according to rating predictions\n",
    "    \"\"\"\n",
    "    # make top N recommendation for the active user\n",
    "    topN_list = item2item_topN(userid)\n",
    "    \n",
    "    # get list of items of the top N list\n",
    "    itemids = topN_list.itemid.to_list()\n",
    "    \n",
    "    predictions = []\n",
    "    \n",
    "    # make prediction for each item in the top N list\n",
    "    for itemid in itemids:\n",
    "        r = predict(userid, itemid)\n",
    "        \n",
    "        predictions.append((itemid,r))\n",
    "    \n",
    "    predictions = pd.DataFrame(predictions, columns=['itemid','prediction'])\n",
    "    \n",
    "    # merge the predictions to topN_list and rearrange the list according to predictions\n",
    "    topN_predict = pd.merge(topN_list, predictions, on='itemid', how='inner')\n",
    "    topN_predict = topN_predict.sort_values(by=['prediction'], ascending=False)\n",
    "    \n",
    "    return topN_list, topN_predict"
   ]
  },
  {
   "cell_type": "markdown",
   "metadata": {},
   "source": [
    "Now, let's make recommendation for user 514 and compare the two list"
   ]
  },
  {
   "cell_type": "code",
   "execution_count": null,
   "metadata": {},
   "outputs": [],
   "source": [
    "topN_list, topN_predict = topN_with_prediction(userid=514)"
   ]
  },
  {
   "cell_type": "code",
   "execution_count": null,
   "metadata": {},
   "outputs": [],
   "source": [
    "topN_list"
   ]
  },
  {
   "cell_type": "code",
   "execution_count": null,
   "metadata": {},
   "outputs": [],
   "source": [
    "topN_predict"
   ]
  },
  {
   "cell_type": "markdown",
   "metadata": {},
   "source": [
    "As you will have noticed, the two lists are sorted in different ways. The second list is organized according to the predictions made for the user.\n",
    "\n",
    "<b>Note</b>: When making predictions for user $u$ on item $i$, user $u$ may not have rated any of the $k$ most similar items to i. In this case, we consider the mean rating of $u$ as the predicted value."
   ]
  },
  {
   "cell_type": "markdown",
   "metadata": {},
   "source": [
    "## References\n",
    "\n",
    "1. George Karypis (2001)<a href=\"https://citeseerx.ist.psu.edu/viewdoc/download?doi=10.1.1.554.1671&rep=rep1&type=pdf\">Evaluation of Item-Based Top-N Recommendation Algorithms</a>\n",
    "2. Sarwar et al. (2001) <a href=\"https://dl.acm.org/doi/10.1145/371920.372071\"> Item-based collaborative filtering recommendation algorithms</a> \n",
    "3. Michael D. Ekstrand, et al. (2011). <a href=\"https://dl.acm.org/doi/10.1561/1100000009\"> Collaborative Filtering Recommender Systems</a>\n",
    "4. J. Bobadilla et al. (2013)<a href=\"https://romisatriawahono.net/lecture/rm/survey/information%20retrieval/Bobadilla%20-%20Recommender%20Systems%20-%202013.pdf\"> Recommender systems survey</a>\n",
    "5. Greg Linden, Brent Smith, and Jeremy York (2003) <a href=\"https://www.cs.umd.edu/~samir/498/Amazon-Recommendations.pdf\">Amazon.com Recommendations : Item-to-Item Collaborative Filtering</a>"
   ]
  },
  {
   "cell_type": "markdown",
   "metadata": {},
   "source": [
    "## Author\n",
    "\n",
    "<a href=\"https://www.linkedin.com/in/carmel-wenga-871876178/\">Carmel WENGA</a>, Applied Machine Learning Research Engineer | <a href=\"https://shoppinglist.cm/fr/\">ShoppingList</a>, Nzhinusoft"
   ]
  }
 ],
 "metadata": {
  "kernelspec": {
   "display_name": "RecSys",
   "language": "python",
   "name": "recsys"
  },
  "language_info": {
   "codemirror_mode": {
    "name": "ipython",
    "version": 3
   },
   "file_extension": ".py",
   "mimetype": "text/x-python",
   "name": "python",
   "nbconvert_exporter": "python",
   "pygments_lexer": "ipython3",
   "version": "3.6.10"
  }
 },
 "nbformat": 4,
 "nbformat_minor": 2
}
