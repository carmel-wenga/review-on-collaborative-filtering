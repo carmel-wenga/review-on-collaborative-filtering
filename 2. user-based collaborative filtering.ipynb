{
 "cells": [
  {
   "cell_type": "markdown",
   "metadata": {},
   "source": [
    "<a href=\"https://colab.research.google.com/github/nzhinusoftcm/review-on-collaborative-filtering/blob/master/2.%20user-based%20collaborative%20filtering.ipynb\" target=\"_blank\">\n",
    "  <img src=\"https://colab.research.google.com/assets/colab-badge.svg\" alt=\"Open In Colab\"/>\n",
    "</a>"
   ]
  },
  {
   "cell_type": "markdown",
   "metadata": {},
   "source": [
    "### Download tools"
   ]
  },
  {
   "cell_type": "code",
   "execution_count": 1,
   "metadata": {},
   "outputs": [
    {
     "name": "stdout",
     "output_type": "stream",
     "text": [
      "[INFO] Tools already exist\n"
     ]
    }
   ],
   "source": [
    "import os\n",
    "\n",
    "if os.path.exists(\"tools.zip\") or os.path.exists(\"tools\"):\n",
    "    print('[INFO] Tools already exist')\n",
    "else:\n",
    "    print('[INFO] Download tools ...')\n",
    "    !wget https://www.dropbox.com/s/fm1zn2bf08lgnun/tools.zip\n",
    "    \n",
    "    print('[INFO] unzip downloaded tools ...')\n",
    "    !unzip tools.zip"
   ]
  },
  {
   "cell_type": "code",
   "execution_count": 2,
   "metadata": {},
   "outputs": [],
   "source": [
    "from sklearn.neighbors import NearestNeighbors\n",
    "from scipy.sparse import csr_matrix\n",
    "from tools.utils import load_movies, load_ratings, download_data\n",
    "\n",
    "import pandas as pd\n",
    "import numpy as np\n",
    "import zipfile\n",
    "import os"
   ]
  },
  {
   "cell_type": "markdown",
   "metadata": {},
   "source": [
    "# Download MovieLen ratings"
   ]
  },
  {
   "cell_type": "code",
   "execution_count": 3,
   "metadata": {},
   "outputs": [
    {
     "name": "stdout",
     "output_type": "stream",
     "text": [
      "Data already exists ...\n"
     ]
    }
   ],
   "source": [
    "data = os.path.join('tools', 'ml-latest-small')\n",
    "\n",
    "if os.path.exists(data):\n",
    "    print('Data already exists ...')\n",
    "    ratings_csv, movies_csv = os.path.join(data, 'ratings.csv'), os.path.join(data, 'movies.csv')\n",
    "else:\n",
    "    ratings_csv, movies_csv = download_data()"
   ]
  },
  {
   "cell_type": "code",
   "execution_count": 4,
   "metadata": {},
   "outputs": [],
   "source": [
    "ratings, movies = load_ratings(ratings_csv), load_movies(movies_csv)"
   ]
  },
  {
   "cell_type": "code",
   "execution_count": 5,
   "metadata": {},
   "outputs": [
    {
     "data": {
      "text/html": [
       "<div>\n",
       "<style scoped>\n",
       "    .dataframe tbody tr th:only-of-type {\n",
       "        vertical-align: middle;\n",
       "    }\n",
       "\n",
       "    .dataframe tbody tr th {\n",
       "        vertical-align: top;\n",
       "    }\n",
       "\n",
       "    .dataframe thead th {\n",
       "        text-align: right;\n",
       "    }\n",
       "</style>\n",
       "<table border=\"1\" class=\"dataframe\">\n",
       "  <thead>\n",
       "    <tr style=\"text-align: right;\">\n",
       "      <th></th>\n",
       "      <th>userid</th>\n",
       "      <th>itemid</th>\n",
       "      <th>rating</th>\n",
       "    </tr>\n",
       "  </thead>\n",
       "  <tbody>\n",
       "    <tr>\n",
       "      <th>0</th>\n",
       "      <td>1</td>\n",
       "      <td>1</td>\n",
       "      <td>4.0</td>\n",
       "    </tr>\n",
       "    <tr>\n",
       "      <th>1</th>\n",
       "      <td>1</td>\n",
       "      <td>3</td>\n",
       "      <td>4.0</td>\n",
       "    </tr>\n",
       "    <tr>\n",
       "      <th>2</th>\n",
       "      <td>1</td>\n",
       "      <td>6</td>\n",
       "      <td>4.0</td>\n",
       "    </tr>\n",
       "    <tr>\n",
       "      <th>3</th>\n",
       "      <td>1</td>\n",
       "      <td>47</td>\n",
       "      <td>5.0</td>\n",
       "    </tr>\n",
       "    <tr>\n",
       "      <th>4</th>\n",
       "      <td>1</td>\n",
       "      <td>50</td>\n",
       "      <td>5.0</td>\n",
       "    </tr>\n",
       "  </tbody>\n",
       "</table>\n",
       "</div>"
      ],
      "text/plain": [
       "   userid  itemid  rating\n",
       "0       1       1     4.0\n",
       "1       1       3     4.0\n",
       "2       1       6     4.0\n",
       "3       1      47     5.0\n",
       "4       1      50     5.0"
      ]
     },
     "execution_count": 5,
     "metadata": {},
     "output_type": "execute_result"
    }
   ],
   "source": [
    "ratings.head()"
   ]
  },
  {
   "cell_type": "code",
   "execution_count": 6,
   "metadata": {},
   "outputs": [
    {
     "data": {
      "text/html": [
       "<div>\n",
       "<style scoped>\n",
       "    .dataframe tbody tr th:only-of-type {\n",
       "        vertical-align: middle;\n",
       "    }\n",
       "\n",
       "    .dataframe tbody tr th {\n",
       "        vertical-align: top;\n",
       "    }\n",
       "\n",
       "    .dataframe thead th {\n",
       "        text-align: right;\n",
       "    }\n",
       "</style>\n",
       "<table border=\"1\" class=\"dataframe\">\n",
       "  <thead>\n",
       "    <tr style=\"text-align: right;\">\n",
       "      <th></th>\n",
       "      <th>itemid</th>\n",
       "      <th>title</th>\n",
       "    </tr>\n",
       "  </thead>\n",
       "  <tbody>\n",
       "    <tr>\n",
       "      <th>0</th>\n",
       "      <td>1</td>\n",
       "      <td>Toy Story (1995)</td>\n",
       "    </tr>\n",
       "    <tr>\n",
       "      <th>1</th>\n",
       "      <td>2</td>\n",
       "      <td>Jumanji (1995)</td>\n",
       "    </tr>\n",
       "    <tr>\n",
       "      <th>2</th>\n",
       "      <td>3</td>\n",
       "      <td>Grumpier Old Men (1995)</td>\n",
       "    </tr>\n",
       "    <tr>\n",
       "      <th>3</th>\n",
       "      <td>4</td>\n",
       "      <td>Waiting to Exhale (1995)</td>\n",
       "    </tr>\n",
       "    <tr>\n",
       "      <th>4</th>\n",
       "      <td>5</td>\n",
       "      <td>Father of the Bride Part II (1995)</td>\n",
       "    </tr>\n",
       "  </tbody>\n",
       "</table>\n",
       "</div>"
      ],
      "text/plain": [
       "   itemid                               title\n",
       "0       1                    Toy Story (1995)\n",
       "1       2                      Jumanji (1995)\n",
       "2       3             Grumpier Old Men (1995)\n",
       "3       4            Waiting to Exhale (1995)\n",
       "4       5  Father of the Bride Part II (1995)"
      ]
     },
     "execution_count": 6,
     "metadata": {},
     "output_type": "execute_result"
    }
   ],
   "source": [
    "movies.head()"
   ]
  },
  {
   "cell_type": "markdown",
   "metadata": {},
   "source": [
    "# Transform rating dataframe to matrix"
   ]
  },
  {
   "cell_type": "code",
   "execution_count": 7,
   "metadata": {},
   "outputs": [],
   "source": [
    "def ratings_matrix(ratings):\n",
    "    \n",
    "    R = csr_matrix(pd.crosstab(ratings.userid, ratings.itemid, ratings.rating, aggfunc=sum).fillna(0).values)\n",
    "    \n",
    "    return R"
   ]
  },
  {
   "cell_type": "code",
   "execution_count": 8,
   "metadata": {},
   "outputs": [],
   "source": [
    "R = ratings_matrix(ratings)"
   ]
  },
  {
   "cell_type": "markdown",
   "metadata": {},
   "source": [
    "# Memory based collaborative filtering"
   ]
  },
  {
   "cell_type": "markdown",
   "metadata": {},
   "source": [
    "Memory based collaborative filtering (CF) also known as nearest neighbors based CF makes recommendation based on similar behavious of users and items. There are two types of memory based CF : <b>user-based</b> and <b>item-based</b> CF. Both of these algorithm usually proceed in three stages :\n",
    "\n",
    "1. Similarity computation (between users or items)\n",
    "2. Rating prediction (using ratings of similar users or items)\n",
    "3. Top-N recommendation\n"
   ]
  },
  {
   "cell_type": "markdown",
   "metadata": {},
   "source": [
    "# 1. User-based Collaborative Filtering"
   ]
  },
  {
   "cell_type": "markdown",
   "metadata": {},
   "source": [
    "## Idea\n",
    "\n",
    "Let $u$ be the user for which we plan to make recommendations. \n",
    "\n",
    "1. Find other users whose past rating behavior is similar to that of $u$\n",
    "2. Use their ratings on other items to predict what the current user will like"
   ]
  },
  {
   "cell_type": "markdown",
   "metadata": {},
   "source": [
    "## Algorithm : user-to-user collaborative filtering\n",
    "\n",
    "The entire process of user-to-user CF algorithm is described as follow <a href=\"https://romisatriawahono.net/lecture/rm/survey/information%20retrieval/Bobadilla%20-%20Recommender%20Systems%20-%202013.pdf\">(J. Bobadilla et al. 2013)</a>: For an active user $u$,\n",
    "\n",
    "<ol>\n",
    "    <li> First identify the set $G_u$ of $k$ most similar users. $G_u$ is the group users similar to the active user $u$. The similarity between two users $u$ and $v$ can be measured by the cosine similarity measure as follows :\n",
    "\n",
    "\\begin{equation}\n",
    " w_{u,v}=\\frac{\\vec{r}_u \\cdot \\vec{r}_v}{\\|\\vec{r}_u\\|_2 \\ast \\|\\vec{r}_v\\|_2} = \\frac{\\sum_{i\\in I}r_{u,i}r_{v,i}}{\\sqrt{\\sum_{i\\in I} (r_{u,i})^2}\\sqrt{\\sum_{i\\in I} (r_{v,i})^2}}\n",
    "\\end{equation}\n",
    "\n",
    "$w_{u,v}$ is the degree of similarity between users $u$ and $v$. This term is computed for all $v\\in U$, where $U$ is the set of all users. There remains the question of how many neighbors to select. As experimented by <a href=\"https://dl.acm.org/doi/10.1145/3130348.3130372\">(Herlocker et al. 1999)</a>, $k\\in [20,50]$ is a reasonable starting point in many domains.\n",
    "    </li>\n",
    "    <li> Find the set $C$ of candidate items, purchased by the group and not purchased by the active user $u$. Candidate items have to be the most frequent items purchased by the group.\n",
    "    </li>\n",
    "    <li>Aggregate ratings of users in $G_u$ to make predictions for user $u$ on items he has not already purchased. Several aggregation approaches are often used such as <b>average, weighted sum, ajusted weighted sum</b>. By using weighted sum, the predicted rating of user $u$ on item $i$ denoted by $\\hat{r}_{u,i}$ is computed as follow :\n",
    "\n",
    "\\begin{equation}\n",
    " \\hat{r}_{u,i}=\\bar{r}_u + \\frac{\\sum_{v\\in G_u}(r_{v,i}-\\bar{r}_v)\\cdot w_{u,v}}{\\sum_{v\\in G_u}|w_{u,v}|}.\n",
    "\\end{equation}\n",
    "\n",
    "Ratings of similar users are weighted by the corresponding similarity with the active user. Summation are made over all the users who have rated item $i$. Subtracting the user’s mean rating $\\bar{r}_v$ compensates for differences in users’ use of the rating scale as some users will tend to give higher ratings than others <a href=\"https://dl.acm.org/doi/10.1561/1100000009\">(Michael D. Ekstrand, <i>et al.</i> 2011)</a>. This prediction is made for all items $i \\in C$ not purchased by user $u$.\n",
    "    </li>\n",
    "    <li>The Top-$N$ recommendations are obtained by choosing the $N$ items which provide most satisfaction to the user according to prediction.\n",
    "    </li>\n",
    "</ol>"
   ]
  },
  {
   "cell_type": "markdown",
   "metadata": {},
   "source": [
    "### Step 1. Identify $G_u$, the set of $k$ users similar to an active user $u$"
   ]
  },
  {
   "cell_type": "markdown",
   "metadata": {},
   "source": [
    "To find the $k$ most similar users to $u$, we use the cosine similarity and compute $w_{u,v}$ for all $v\\in U$. Fortunately, libraries such as <i>scikit-learn (sklearn)</i> are very useful for such tasks :\n",
    "\n",
    "1. First of all, we create a nearest neighbors model with sklearn through the function ```create_model()```. This function creates and fit a nearest neighbors model with user's ratings. ```n_neighbors=21``` define the number of neighbors to return. With $k=20$ neighbors, $|G_u|=21$ as $G_u$ contains $20$ similar users added to the active user $u$. That is why ```n_neighbors=21```. Each row $r_u$ of the rating matrix $R$ represents ratings of user $u$ on all items of the database. Missing ratings are replaced with $0.0$. \n",
    "```python\n",
    "R[u,:] # uth row of the rating matrix R. Ratings of user u on all items in the database\n",
    "```\n",
    "2. Function ```nearest_neighbors()``` returns the most similar users to a given user $u$."
   ]
  },
  {
   "cell_type": "code",
   "execution_count": 9,
   "metadata": {},
   "outputs": [],
   "source": [
    "def create_model(R):\n",
    "    \n",
    "    # create the nearest neighbors model\n",
    "    model = NearestNeighbors(metric='cosine', n_neighbors=21, algorithm='brute')\n",
    "    \n",
    "    # fit the model with ratings\n",
    "    model.fit(R)\n",
    "    \n",
    "    return model"
   ]
  },
  {
   "cell_type": "code",
   "execution_count": 10,
   "metadata": {},
   "outputs": [],
   "source": [
    "def nearest_neighbors(userid, model):\n",
    "    \"\"\"\n",
    "    return users similar to a given user.\n",
    "    \n",
    "    :param\n",
    "        - userid : id of the user for which we want to find nearest neighbors\n",
    "        - model : nearest neighbors model\n",
    "    \n",
    "    :return\n",
    "        - similarities : distances of the neighbors from the referenced user\n",
    "        - neighbors : neighbors of the referenced user in decreasing order of similarities\n",
    "    \"\"\"\n",
    "    \n",
    "    similarities, neighbors = model.kneighbors(R[userid - 1,:])\n",
    "    \n",
    "    similarities = 1 - np.squeeze(similarities)\n",
    "    neighbors = np.squeeze(neighbors) + 1\n",
    "        \n",
    "    return similarities[1:].tolist(), neighbors[1:].tolist()"
   ]
  },
  {
   "cell_type": "markdown",
   "metadata": {},
   "source": [
    "Let's call functions ```create_model()``` and ```nearest_neighbors()``` to respectively create the $k$-NN model and compute the nearest neighbors for a given user"
   ]
  },
  {
   "cell_type": "code",
   "execution_count": 11,
   "metadata": {},
   "outputs": [],
   "source": [
    "model = create_model(R)"
   ]
  },
  {
   "cell_type": "code",
   "execution_count": 12,
   "metadata": {},
   "outputs": [],
   "source": [
    "similarities, neighbors = nearest_neighbors(1, model)"
   ]
  },
  {
   "cell_type": "markdown",
   "metadata": {},
   "source": [
    "Now we know the 20 most similar users for each user in the database. The cell below accesses to the list of similar users of user 1"
   ]
  },
  {
   "cell_type": "markdown",
   "metadata": {},
   "source": [
    "### Step 2. Find candidate items"
   ]
  },
  {
   "cell_type": "markdown",
   "metadata": {},
   "source": [
    "The set $C$ of candidate items are the most frequent ones purchased by users in $G_u$ for an active user $u$ and not purchased by $u$."
   ]
  },
  {
   "cell_type": "markdown",
   "metadata": {},
   "source": [
    "Function ```find_candidate_items()``` : find items purchased by these similar users as well as their frequency. Note that the frequency of the items in the set $C$ can be computed by just counting the actual occurrence frequency of that items.\n",
    "\n",
    "1. ```Gu_items``` : frequent items of $G_u$ in decreasing order of frequency.\n",
    "2. ```active_items``` : items already purchased by the active user\n",
    "3. ```candidates``` : frequent items of $G_u$ not purchased by the active user $u$"
   ]
  },
  {
   "cell_type": "code",
   "execution_count": 13,
   "metadata": {},
   "outputs": [],
   "source": [
    "def find_candidate_items(userid, neighbors):\n",
    "    \"\"\"\n",
    "    Find candidate items for an active user\n",
    "    \n",
    "    :param\n",
    "        - userid : active user\n",
    "        - neighbors : users similar to the active user\n",
    "        \n",
    "    :return\n",
    "        - candidates : top 30 of candidate items\n",
    "    \"\"\"\n",
    "    \n",
    "    activities = ratings.loc[ratings.userid.isin(neighbors)]\n",
    "    \n",
    "    # sort items in decreasing order of frequency\n",
    "    frequency = activities.groupby('itemid')['rating'].count().reset_index(name='count').sort_values(['count'],ascending=False)\n",
    "    Gu_items = frequency.itemid\n",
    "    active_items = ratings.loc[ratings.userid == userid].itemid.to_list()\n",
    "    candidates = np.setdiff1d(Gu_items, active_items, assume_unique=True)[:30]\n",
    "        \n",
    "    return candidates"
   ]
  },
  {
   "cell_type": "markdown",
   "metadata": {},
   "source": [
    "### Step 3. Rating prediction"
   ]
  },
  {
   "cell_type": "markdown",
   "metadata": {},
   "source": [
    "Now it's time to predict what score the active user $u$ would have given to each of the top-30 candidate items.\n",
    "\n",
    "To predict the score of $u$ on a candidate item $i$ ,we need :\n",
    "1. Similarities between $u$ and all his neighbors $v \\in G_u$ who rated item $i$ : function ```nearest_neighbors()``` returns similar users of a user as well as their corresponding similarities.\n",
    "2. Normalized ratings of all $v \\in G_u$ on item $i$. The normalized rating of user $v$ on item $i$ is defined by $r_{v,i}-\\bar{r}_v$."
   ]
  },
  {
   "cell_type": "markdown",
   "metadata": {},
   "source": [
    "Next, let's compute the mean rating of each user and the normalized ratings for each item. The DataFrame ```mean``` contains mean rating for each user. With the mean rating of each user, we can add an extra column ```norm_rating``` to the ```ratings```'s DataFrame which can be accessed to make predictions."
   ]
  },
  {
   "cell_type": "code",
   "execution_count": 14,
   "metadata": {},
   "outputs": [],
   "source": [
    "# mean ratings for each user\n",
    "mean = ratings.groupby(by='userid', as_index=False)['rating'].mean()\n",
    "mean_ratings = pd.merge(ratings, mean, suffixes=('','_mean'), on='userid')\n",
    "\n",
    "# normalized ratings for each items\n",
    "mean_ratings['norm_rating'] = mean_ratings['rating'] - mean_ratings['rating_mean']"
   ]
  },
  {
   "cell_type": "code",
   "execution_count": 15,
   "metadata": {},
   "outputs": [
    {
     "data": {
      "text/html": [
       "<div>\n",
       "<style scoped>\n",
       "    .dataframe tbody tr th:only-of-type {\n",
       "        vertical-align: middle;\n",
       "    }\n",
       "\n",
       "    .dataframe tbody tr th {\n",
       "        vertical-align: top;\n",
       "    }\n",
       "\n",
       "    .dataframe thead th {\n",
       "        text-align: right;\n",
       "    }\n",
       "</style>\n",
       "<table border=\"1\" class=\"dataframe\">\n",
       "  <thead>\n",
       "    <tr style=\"text-align: right;\">\n",
       "      <th></th>\n",
       "      <th>userid</th>\n",
       "      <th>itemid</th>\n",
       "      <th>rating</th>\n",
       "      <th>rating_mean</th>\n",
       "      <th>norm_rating</th>\n",
       "    </tr>\n",
       "  </thead>\n",
       "  <tbody>\n",
       "    <tr>\n",
       "      <th>0</th>\n",
       "      <td>1</td>\n",
       "      <td>1</td>\n",
       "      <td>4.0</td>\n",
       "      <td>4.366379</td>\n",
       "      <td>-0.366379</td>\n",
       "    </tr>\n",
       "    <tr>\n",
       "      <th>1</th>\n",
       "      <td>1</td>\n",
       "      <td>3</td>\n",
       "      <td>4.0</td>\n",
       "      <td>4.366379</td>\n",
       "      <td>-0.366379</td>\n",
       "    </tr>\n",
       "    <tr>\n",
       "      <th>2</th>\n",
       "      <td>1</td>\n",
       "      <td>6</td>\n",
       "      <td>4.0</td>\n",
       "      <td>4.366379</td>\n",
       "      <td>-0.366379</td>\n",
       "    </tr>\n",
       "    <tr>\n",
       "      <th>3</th>\n",
       "      <td>1</td>\n",
       "      <td>47</td>\n",
       "      <td>5.0</td>\n",
       "      <td>4.366379</td>\n",
       "      <td>0.633621</td>\n",
       "    </tr>\n",
       "    <tr>\n",
       "      <th>4</th>\n",
       "      <td>1</td>\n",
       "      <td>50</td>\n",
       "      <td>5.0</td>\n",
       "      <td>4.366379</td>\n",
       "      <td>0.633621</td>\n",
       "    </tr>\n",
       "    <tr>\n",
       "      <th>...</th>\n",
       "      <td>...</td>\n",
       "      <td>...</td>\n",
       "      <td>...</td>\n",
       "      <td>...</td>\n",
       "      <td>...</td>\n",
       "    </tr>\n",
       "    <tr>\n",
       "      <th>100831</th>\n",
       "      <td>610</td>\n",
       "      <td>166534</td>\n",
       "      <td>4.0</td>\n",
       "      <td>3.688556</td>\n",
       "      <td>0.311444</td>\n",
       "    </tr>\n",
       "    <tr>\n",
       "      <th>100832</th>\n",
       "      <td>610</td>\n",
       "      <td>168248</td>\n",
       "      <td>5.0</td>\n",
       "      <td>3.688556</td>\n",
       "      <td>1.311444</td>\n",
       "    </tr>\n",
       "    <tr>\n",
       "      <th>100833</th>\n",
       "      <td>610</td>\n",
       "      <td>168250</td>\n",
       "      <td>5.0</td>\n",
       "      <td>3.688556</td>\n",
       "      <td>1.311444</td>\n",
       "    </tr>\n",
       "    <tr>\n",
       "      <th>100834</th>\n",
       "      <td>610</td>\n",
       "      <td>168252</td>\n",
       "      <td>5.0</td>\n",
       "      <td>3.688556</td>\n",
       "      <td>1.311444</td>\n",
       "    </tr>\n",
       "    <tr>\n",
       "      <th>100835</th>\n",
       "      <td>610</td>\n",
       "      <td>170875</td>\n",
       "      <td>3.0</td>\n",
       "      <td>3.688556</td>\n",
       "      <td>-0.688556</td>\n",
       "    </tr>\n",
       "  </tbody>\n",
       "</table>\n",
       "<p>100836 rows × 5 columns</p>\n",
       "</div>"
      ],
      "text/plain": [
       "        userid  itemid  rating  rating_mean  norm_rating\n",
       "0            1       1     4.0     4.366379    -0.366379\n",
       "1            1       3     4.0     4.366379    -0.366379\n",
       "2            1       6     4.0     4.366379    -0.366379\n",
       "3            1      47     5.0     4.366379     0.633621\n",
       "4            1      50     5.0     4.366379     0.633621\n",
       "...        ...     ...     ...          ...          ...\n",
       "100831     610  166534     4.0     3.688556     0.311444\n",
       "100832     610  168248     5.0     3.688556     1.311444\n",
       "100833     610  168250     5.0     3.688556     1.311444\n",
       "100834     610  168252     5.0     3.688556     1.311444\n",
       "100835     610  170875     3.0     3.688556    -0.688556\n",
       "\n",
       "[100836 rows x 5 columns]"
      ]
     },
     "execution_count": 15,
     "metadata": {},
     "output_type": "execute_result"
    }
   ],
   "source": [
    "mean_ratings"
   ]
  },
  {
   "cell_type": "markdown",
   "metadata": {},
   "source": [
    "Find similar users who rated the random item. The datafram ```urci``` correspond to <b>users who rated the current item</b> and ```surci``` to the <b> similar users who rated the current item</b>"
   ]
  },
  {
   "cell_type": "code",
   "execution_count": 16,
   "metadata": {},
   "outputs": [],
   "source": [
    "def surci(itemid, neighbors):\n",
    "    \"\"\"\n",
    "    \"\"\"\n",
    "    urci = mean_ratings[mean_ratings.itemid==random_item]\n",
    "    surci = URCI.loc[URCI.userid.isin(neighbors)]\n",
    "    \n",
    "    return surci"
   ]
  },
  {
   "cell_type": "markdown",
   "metadata": {},
   "source": [
    "The active user then has eleven (10) similar users who rated the selected item. We will use their ratings to predict what he would have given to that item. Recall that the prediction formula is defined as follow :\n",
    "\n",
    "\\begin{equation}\n",
    " \\hat{r}_{u,i}=\\bar{r}_u + \\frac{\\sum_{v\\in G_u}(r_{v,i}-\\bar{r}_v)\\cdot w_{u,v}}{\\sum_{v\\in G_u}|w_{u,v}|}.\n",
    "\\end{equation}"
   ]
  },
  {
   "cell_type": "code",
   "execution_count": 17,
   "metadata": {},
   "outputs": [],
   "source": [
    "def rating_prediction(userid, itemid, similarities, neighbors):\n",
    "    \"\"\"\n",
    "    predict what score userid would have given to itemid.\n",
    "    \n",
    "    :param\n",
    "        - userid : user id for which we want to make prediction\n",
    "        - itemid : item id on which we want to make prediction\n",
    "        \n",
    "    :return\n",
    "        - r_hat : predicted rating of user userid on item itemid\n",
    "    \"\"\"\n",
    "    \n",
    "    # get mean rating of user userid\n",
    "    user_mean = mean[mean.userid==userid].rating.values[0]\n",
    "    \n",
    "    # initialize the weighted sum (numerator)\n",
    "    weighted_sum = 0\n",
    "    \n",
    "    # initialize the sum of similarities of neighbors who rated item itemid (denominator)\n",
    "    W = 0\n",
    "    \n",
    "    # users who rated current item\n",
    "    URCI = mean_ratings[mean_ratings.itemid==itemid]\n",
    "    \n",
    "    # similar users who rated the current item\n",
    "    SURCI = URCI.loc[URCI.userid.isin(neighbors)]\n",
    "    \n",
    "    # loop over neighbors who rated item item\n",
    "    for uid in SURCI.userid:\n",
    "        \n",
    "        # similarity between userid an uid\n",
    "        w = similarities[neighbors.index(uid)]\n",
    "        \n",
    "        # normalize rating of uid on itemid\n",
    "        norm_score = SURCI[SURCI.userid==uid].norm_rating.values[0]\n",
    "        \n",
    "        # weighted normalize rating\n",
    "        weighted_score = norm_score * w\n",
    "        \n",
    "        # update denominator\n",
    "        W = W + abs(w)\n",
    "        \n",
    "        # update denominator\n",
    "        weighted_sum = weighted_sum + weighted_score\n",
    "    \n",
    "    r_hat = user_mean + weighted_sum / W\n",
    "    \n",
    "    return r_hat"
   ]
  },
  {
   "cell_type": "markdown",
   "metadata": {},
   "source": [
    "Now, we can make rating prediction for a given user on each item in his set of candidate items."
   ]
  },
  {
   "cell_type": "code",
   "execution_count": 18,
   "metadata": {},
   "outputs": [],
   "source": [
    "def user2userPredictions(userid, pred_path):\n",
    "    \"\"\"\n",
    "    Make rating prediction for the active user on each candidate item and save in file prediction.csv\n",
    "    \n",
    "    :param\n",
    "        - userid : id of the active user\n",
    "        - pred_path : where to save predictions\n",
    "    \"\"\"\n",
    "    similarities, neighbors = nearest_neighbors(userid, model)\n",
    "    \n",
    "    # find candidate items for the active user\n",
    "    candidates = find_candidate_items(userid, neighbors)\n",
    "    \n",
    "    # loop over candidates items to make predictions\n",
    "    for itemid in candidates:\n",
    "        \n",
    "        # prediction for userid on itemid\n",
    "        r_hat = rating_prediction(userid, itemid, similarities, neighbors)\n",
    "        \n",
    "        # save predictions\n",
    "        with open(pred_path, 'a+') as file:\n",
    "            line = '{},{},{}\\n'.format(userid, itemid, r_hat)\n",
    "            file.write(line)"
   ]
  },
  {
   "cell_type": "code",
   "execution_count": 19,
   "metadata": {},
   "outputs": [],
   "source": [
    "def user2userCF():\n",
    "    \"\"\"\n",
    "    Make predictions for each user in the database.    \n",
    "    \n",
    "    \"\"\"\n",
    "    # get list of users in the database\n",
    "    users = ratings.userid.unique()\n",
    "    \n",
    "    saved_predictions = os.path.join('tools', 'predictions.csv')    \n",
    "    if os.path.exists(saved_predictions):\n",
    "        os.remove(saved_predictions)\n",
    "    \n",
    "    for userid in users:        \n",
    "        \n",
    "        # make rating predictions for the current user\n",
    "        user2userPredictions(userid, saved_predictions)"
   ]
  },
  {
   "cell_type": "code",
   "execution_count": 20,
   "metadata": {},
   "outputs": [],
   "source": [
    "user2userCF()"
   ]
  },
  {
   "cell_type": "markdown",
   "metadata": {},
   "source": [
    "### Step 4. Top-N recommendation\n",
    "\n",
    "Function ```user2userRecommendation()``` reads predictions for a given user and return the list of items in decreasing order of predicted rating."
   ]
  },
  {
   "cell_type": "code",
   "execution_count": 21,
   "metadata": {},
   "outputs": [],
   "source": [
    "def user2userRecommendation(userid):\n",
    "    \"\"\"\n",
    "    \"\"\"\n",
    "    saved_predictions = os.path.join('tools', 'predictions.csv')\n",
    "    \n",
    "    predictions = pd.read_csv(saved_predictions, sep=',', names=['userid', 'itemid', 'predicted_rating'])\n",
    "    predictions = predictions[predictions.userid==userid]\n",
    "    List = predictions.sort_values(by=['predicted_rating'], ascending=False)\n",
    "    List = pd.merge(List, movies, on='itemid', how='inner')\n",
    "    \n",
    "    return List"
   ]
  },
  {
   "cell_type": "code",
   "execution_count": 22,
   "metadata": {},
   "outputs": [
    {
     "data": {
      "text/html": [
       "<div>\n",
       "<style scoped>\n",
       "    .dataframe tbody tr th:only-of-type {\n",
       "        vertical-align: middle;\n",
       "    }\n",
       "\n",
       "    .dataframe tbody tr th {\n",
       "        vertical-align: top;\n",
       "    }\n",
       "\n",
       "    .dataframe thead th {\n",
       "        text-align: right;\n",
       "    }\n",
       "</style>\n",
       "<table border=\"1\" class=\"dataframe\">\n",
       "  <thead>\n",
       "    <tr style=\"text-align: right;\">\n",
       "      <th></th>\n",
       "      <th>userid</th>\n",
       "      <th>itemid</th>\n",
       "      <th>predicted_rating</th>\n",
       "      <th>title</th>\n",
       "    </tr>\n",
       "  </thead>\n",
       "  <tbody>\n",
       "    <tr>\n",
       "      <th>0</th>\n",
       "      <td>212</td>\n",
       "      <td>50</td>\n",
       "      <td>4.363048</td>\n",
       "      <td>Usual Suspects, The (1995)</td>\n",
       "    </tr>\n",
       "    <tr>\n",
       "      <th>1</th>\n",
       "      <td>212</td>\n",
       "      <td>858</td>\n",
       "      <td>4.336386</td>\n",
       "      <td>Godfather, The (1972)</td>\n",
       "    </tr>\n",
       "    <tr>\n",
       "      <th>2</th>\n",
       "      <td>212</td>\n",
       "      <td>527</td>\n",
       "      <td>4.300788</td>\n",
       "      <td>Schindler's List (1993)</td>\n",
       "    </tr>\n",
       "    <tr>\n",
       "      <th>3</th>\n",
       "      <td>212</td>\n",
       "      <td>48516</td>\n",
       "      <td>4.265758</td>\n",
       "      <td>Departed, The (2006)</td>\n",
       "    </tr>\n",
       "    <tr>\n",
       "      <th>4</th>\n",
       "      <td>212</td>\n",
       "      <td>47</td>\n",
       "      <td>4.210786</td>\n",
       "      <td>Seven (a.k.a. Se7en) (1995)</td>\n",
       "    </tr>\n",
       "    <tr>\n",
       "      <th>5</th>\n",
       "      <td>212</td>\n",
       "      <td>4878</td>\n",
       "      <td>4.186514</td>\n",
       "      <td>Donnie Darko (2001)</td>\n",
       "    </tr>\n",
       "    <tr>\n",
       "      <th>6</th>\n",
       "      <td>212</td>\n",
       "      <td>1089</td>\n",
       "      <td>4.172989</td>\n",
       "      <td>Reservoir Dogs (1992)</td>\n",
       "    </tr>\n",
       "    <tr>\n",
       "      <th>7</th>\n",
       "      <td>212</td>\n",
       "      <td>1270</td>\n",
       "      <td>4.112967</td>\n",
       "      <td>Back to the Future (1985)</td>\n",
       "    </tr>\n",
       "    <tr>\n",
       "      <th>8</th>\n",
       "      <td>212</td>\n",
       "      <td>4226</td>\n",
       "      <td>4.047615</td>\n",
       "      <td>Memento (2000)</td>\n",
       "    </tr>\n",
       "    <tr>\n",
       "      <th>9</th>\n",
       "      <td>212</td>\n",
       "      <td>1</td>\n",
       "      <td>4.004465</td>\n",
       "      <td>Toy Story (1995)</td>\n",
       "    </tr>\n",
       "    <tr>\n",
       "      <th>10</th>\n",
       "      <td>212</td>\n",
       "      <td>2762</td>\n",
       "      <td>3.986565</td>\n",
       "      <td>Sixth Sense, The (1999)</td>\n",
       "    </tr>\n",
       "    <tr>\n",
       "      <th>11</th>\n",
       "      <td>212</td>\n",
       "      <td>74458</td>\n",
       "      <td>3.985800</td>\n",
       "      <td>Shutter Island (2010)</td>\n",
       "    </tr>\n",
       "    <tr>\n",
       "      <th>12</th>\n",
       "      <td>212</td>\n",
       "      <td>1036</td>\n",
       "      <td>3.980937</td>\n",
       "      <td>Die Hard (1988)</td>\n",
       "    </tr>\n",
       "    <tr>\n",
       "      <th>13</th>\n",
       "      <td>212</td>\n",
       "      <td>2329</td>\n",
       "      <td>3.966156</td>\n",
       "      <td>American History X (1998)</td>\n",
       "    </tr>\n",
       "    <tr>\n",
       "      <th>14</th>\n",
       "      <td>212</td>\n",
       "      <td>7438</td>\n",
       "      <td>3.893999</td>\n",
       "      <td>Kill Bill: Vol. 2 (2004)</td>\n",
       "    </tr>\n",
       "    <tr>\n",
       "      <th>15</th>\n",
       "      <td>212</td>\n",
       "      <td>4963</td>\n",
       "      <td>3.867456</td>\n",
       "      <td>Ocean's Eleven (2001)</td>\n",
       "    </tr>\n",
       "    <tr>\n",
       "      <th>16</th>\n",
       "      <td>212</td>\n",
       "      <td>110</td>\n",
       "      <td>3.866241</td>\n",
       "      <td>Braveheart (1995)</td>\n",
       "    </tr>\n",
       "    <tr>\n",
       "      <th>17</th>\n",
       "      <td>212</td>\n",
       "      <td>5418</td>\n",
       "      <td>3.864984</td>\n",
       "      <td>Bourne Identity, The (2002)</td>\n",
       "    </tr>\n",
       "    <tr>\n",
       "      <th>18</th>\n",
       "      <td>212</td>\n",
       "      <td>1682</td>\n",
       "      <td>3.851161</td>\n",
       "      <td>Truman Show, The (1998)</td>\n",
       "    </tr>\n",
       "    <tr>\n",
       "      <th>19</th>\n",
       "      <td>212</td>\n",
       "      <td>134853</td>\n",
       "      <td>3.825242</td>\n",
       "      <td>Inside Out (2015)</td>\n",
       "    </tr>\n",
       "    <tr>\n",
       "      <th>20</th>\n",
       "      <td>212</td>\n",
       "      <td>4886</td>\n",
       "      <td>3.805632</td>\n",
       "      <td>Monsters, Inc. (2001)</td>\n",
       "    </tr>\n",
       "    <tr>\n",
       "      <th>21</th>\n",
       "      <td>212</td>\n",
       "      <td>68358</td>\n",
       "      <td>3.791451</td>\n",
       "      <td>Star Trek (2009)</td>\n",
       "    </tr>\n",
       "    <tr>\n",
       "      <th>22</th>\n",
       "      <td>212</td>\n",
       "      <td>48780</td>\n",
       "      <td>3.782389</td>\n",
       "      <td>Prestige, The (2006)</td>\n",
       "    </tr>\n",
       "    <tr>\n",
       "      <th>23</th>\n",
       "      <td>212</td>\n",
       "      <td>49272</td>\n",
       "      <td>3.770841</td>\n",
       "      <td>Casino Royale (2006)</td>\n",
       "    </tr>\n",
       "    <tr>\n",
       "      <th>24</th>\n",
       "      <td>212</td>\n",
       "      <td>5989</td>\n",
       "      <td>3.676787</td>\n",
       "      <td>Catch Me If You Can (2002)</td>\n",
       "    </tr>\n",
       "    <tr>\n",
       "      <th>25</th>\n",
       "      <td>212</td>\n",
       "      <td>5445</td>\n",
       "      <td>3.661554</td>\n",
       "      <td>Minority Report (2002)</td>\n",
       "    </tr>\n",
       "    <tr>\n",
       "      <th>26</th>\n",
       "      <td>212</td>\n",
       "      <td>3793</td>\n",
       "      <td>3.437174</td>\n",
       "      <td>X-Men (2000)</td>\n",
       "    </tr>\n",
       "    <tr>\n",
       "      <th>27</th>\n",
       "      <td>212</td>\n",
       "      <td>3751</td>\n",
       "      <td>3.241745</td>\n",
       "      <td>Chicken Run (2000)</td>\n",
       "    </tr>\n",
       "    <tr>\n",
       "      <th>28</th>\n",
       "      <td>212</td>\n",
       "      <td>33493</td>\n",
       "      <td>3.194499</td>\n",
       "      <td>Star Wars: Episode III - Revenge of the Sith (...</td>\n",
       "    </tr>\n",
       "    <tr>\n",
       "      <th>29</th>\n",
       "      <td>212</td>\n",
       "      <td>6365</td>\n",
       "      <td>3.133338</td>\n",
       "      <td>Matrix Reloaded, The (2003)</td>\n",
       "    </tr>\n",
       "  </tbody>\n",
       "</table>\n",
       "</div>"
      ],
      "text/plain": [
       "    userid  itemid  predicted_rating  \\\n",
       "0      212      50          4.363048   \n",
       "1      212     858          4.336386   \n",
       "2      212     527          4.300788   \n",
       "3      212   48516          4.265758   \n",
       "4      212      47          4.210786   \n",
       "5      212    4878          4.186514   \n",
       "6      212    1089          4.172989   \n",
       "7      212    1270          4.112967   \n",
       "8      212    4226          4.047615   \n",
       "9      212       1          4.004465   \n",
       "10     212    2762          3.986565   \n",
       "11     212   74458          3.985800   \n",
       "12     212    1036          3.980937   \n",
       "13     212    2329          3.966156   \n",
       "14     212    7438          3.893999   \n",
       "15     212    4963          3.867456   \n",
       "16     212     110          3.866241   \n",
       "17     212    5418          3.864984   \n",
       "18     212    1682          3.851161   \n",
       "19     212  134853          3.825242   \n",
       "20     212    4886          3.805632   \n",
       "21     212   68358          3.791451   \n",
       "22     212   48780          3.782389   \n",
       "23     212   49272          3.770841   \n",
       "24     212    5989          3.676787   \n",
       "25     212    5445          3.661554   \n",
       "26     212    3793          3.437174   \n",
       "27     212    3751          3.241745   \n",
       "28     212   33493          3.194499   \n",
       "29     212    6365          3.133338   \n",
       "\n",
       "                                                title  \n",
       "0                          Usual Suspects, The (1995)  \n",
       "1                               Godfather, The (1972)  \n",
       "2                             Schindler's List (1993)  \n",
       "3                                Departed, The (2006)  \n",
       "4                         Seven (a.k.a. Se7en) (1995)  \n",
       "5                                 Donnie Darko (2001)  \n",
       "6                               Reservoir Dogs (1992)  \n",
       "7                           Back to the Future (1985)  \n",
       "8                                      Memento (2000)  \n",
       "9                                    Toy Story (1995)  \n",
       "10                            Sixth Sense, The (1999)  \n",
       "11                              Shutter Island (2010)  \n",
       "12                                    Die Hard (1988)  \n",
       "13                          American History X (1998)  \n",
       "14                           Kill Bill: Vol. 2 (2004)  \n",
       "15                              Ocean's Eleven (2001)  \n",
       "16                                  Braveheart (1995)  \n",
       "17                        Bourne Identity, The (2002)  \n",
       "18                            Truman Show, The (1998)  \n",
       "19                                  Inside Out (2015)  \n",
       "20                              Monsters, Inc. (2001)  \n",
       "21                                   Star Trek (2009)  \n",
       "22                               Prestige, The (2006)  \n",
       "23                               Casino Royale (2006)  \n",
       "24                         Catch Me If You Can (2002)  \n",
       "25                             Minority Report (2002)  \n",
       "26                                       X-Men (2000)  \n",
       "27                                 Chicken Run (2000)  \n",
       "28  Star Wars: Episode III - Revenge of the Sith (...  \n",
       "29                        Matrix Reloaded, The (2003)  "
      ]
     },
     "execution_count": 22,
     "metadata": {},
     "output_type": "execute_result"
    }
   ],
   "source": [
    "user2userRecommendation(212)"
   ]
  },
  {
   "cell_type": "markdown",
   "metadata": {},
   "source": [
    "## Limitations of user-based CF\n",
    "\n",
    "1. <b> Sparsity </b> : In general, users interact with less than 20% of items. This leads the rating matrix to be highly sparse. For example, the movielen-100k contains 100k ratings from 943 users on 1682 items. The pourcentage of sparsity in this case is around $94\\%$. A recommender system based on nearest neighbor algorithms may be unable to make any item recommendations for a particular user. As a result the accuracy of recommendations may be poor <a href=\"https://dl.acm.org/doi/10.1145/371920.372071\">(Sarwar <i>et al.</i> 2001)</a>.\n",
    "\n",
    "2. <b> Stability of user's ratings </b> : As a user rates and re-rates items, their rating vector will change along with their similarity to other users. A user’s neighborhood is determined not only by their ratings but also by the ratings of other users, so their neighborhood can change as a result of new ratings supplied by any user in the system <a href=\"https://dl.acm.org/doi/10.1561/1100000009\">(Michael D. Ekstrand, <i>et al.</i> 2011)</a>.\n",
    "\n",
    "3. <b> Scalability </b> : Due to the non-stability of users ratings, finding similar users in advance is complicated. For this reason, most user-based CF systems find neighborhoods each time predictions or recommendations are needed. However, these are huge computations that grows with both the number of users and the number of items. With millions of users and items, a typical web-based recommender system running existing algorithms will suffer serious scalability concerns <a href=\"https://dl.acm.org/doi/10.1145/371920.372071\">(Sarwar <i>et al.</i> 2001)</a>, <a href=\"https://dl.acm.org/doi/10.1561/1100000009\">(Michael D. Ekstrand, <i>et al.</i> 2011)</a>."
   ]
  },
  {
   "cell_type": "markdown",
   "metadata": {},
   "source": [
    "## References\n",
    "\n",
    "1. Herlocker et al. (1999)<a href=\"https://dl.acm.org/doi/10.1145/3130348.3130372\"> An Algorithmic Framework for Performing Collaborative Filtering</a>\n",
    "2. Sarwar et al. (2001) <a href=\"https://dl.acm.org/doi/10.1145/371920.372071\"> Item-based collaborative filtering recommendation algorithms</a> \n",
    "3. Michael D. Ekstrand, et al. (2011). <a href=\"https://dl.acm.org/doi/10.1561/1100000009\"> Collaborative Filtering Recommender Systems</a>\n",
    "4. J. Bobadilla et al. (2013)<a href=\"https://romisatriawahono.net/lecture/rm/survey/information%20retrieval/Bobadilla%20-%20Recommender%20Systems%20-%202013.pdf\"> Recommender systems survey</a>"
   ]
  },
  {
   "cell_type": "markdown",
   "metadata": {},
   "source": [
    "## Author\n",
    "\n",
    "<a href=\"https://www.linkedin.com/in/carmel-wenga-871876178/\">Carmel WENGA</a>, Applied Machine Learning Research Engineer | <a href=\"https://shoppinglist.cm/fr/\">ShoppingList</a>, Nzhinusoft"
   ]
  },
  {
   "cell_type": "code",
   "execution_count": null,
   "metadata": {},
   "outputs": [],
   "source": []
  }
 ],
 "metadata": {
  "kernelspec": {
   "display_name": "RecSys",
   "language": "python",
   "name": "recsys"
  },
  "language_info": {
   "codemirror_mode": {
    "name": "ipython",
    "version": 3
   },
   "file_extension": ".py",
   "mimetype": "text/x-python",
   "name": "python",
   "nbconvert_exporter": "python",
   "pygments_lexer": "ipython3",
   "version": "3.6.10"
  }
 },
 "nbformat": 4,
 "nbformat_minor": 2
}
