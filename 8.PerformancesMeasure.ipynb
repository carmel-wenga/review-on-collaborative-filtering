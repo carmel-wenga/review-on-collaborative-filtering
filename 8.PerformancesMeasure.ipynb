{
 "cells": [
  {
   "cell_type": "markdown",
   "metadata": {},
   "source": [
    "open the following link with a new tab\n"
   ]
  },
  {
   "cell_type": "markdown",
   "metadata": {},
   "source": [
    "[![Open In Colab](https://colab.research.google.com/assets/colab-badge.svg)](https://colab.research.google.com/github/nzhinusoftcm/review-on-collaborative-filtering/blob/master/8.PerformancesMeasure.ipynb)"
   ]
  },
  {
   "cell_type": "code",
   "execution_count": 1,
   "metadata": {},
   "outputs": [],
   "source": [
    "import os\n",
    "\n",
    "if not (os.path.exists(\"recsys.zip\") or os.path.exists(\"recsys\")):\n",
    "    !wget https://github.com/nzhinusoftcm/review-on-collaborative-filtering/raw/master/recsys.zip    \n",
    "    !unzip recsys.zip"
   ]
  },
  {
   "cell_type": "markdown",
   "metadata": {},
   "source": [
    "### requirements\n",
    "\n",
    "```\n",
    "matplotlib==3.2.2\n",
    "numpy==1.19.2\n",
    "pandas==1.0.5\n",
    "python==3.7\n",
    "scikit-learn==0.24.1\n",
    "scikit-surprise==1.1.1\n",
    "scipy==1.6.2\n",
    "```"
   ]
  },
  {
   "cell_type": "code",
   "execution_count": 2,
   "metadata": {},
   "outputs": [],
   "source": [
    "from recsys.memories.UserToUser import UserToUser\n",
    "from recsys.memories.ItemToItem import ItemToItem\n",
    "\n",
    "from recsys.models.MatrixFactorization import MF\n",
    "from recsys.models.ExplainableMF import EMF, explainable_score\n",
    "\n",
    "from recsys.preprocessing import normalized_ratings\n",
    "from recsys.preprocessing import train_test_split\n",
    "from recsys.preprocessing import rating_matrix\n",
    "from recsys.preprocessing import scale_ratings\n",
    "from recsys.preprocessing import mean_ratings\n",
    "from recsys.preprocessing import get_examples\n",
    "from recsys.preprocessing import ids_encoder\n",
    "\n",
    "from recsys.datasets import ml100k\n",
    "from recsys.datasets import ml1m\n",
    "\n",
    "from sklearn.preprocessing import LabelEncoder\n",
    "\n",
    "import matplotlib.pyplot as plt\n",
    "import pandas as pd\n",
    "import numpy as np\n",
    "\n",
    "import os"
   ]
  },
  {
   "cell_type": "markdown",
   "metadata": {},
   "source": [
    "# 1. Results on MovieLens 100k"
   ]
  },
  {
   "cell_type": "markdown",
   "metadata": {},
   "source": [
    "## 1.1. User-based CF"
   ]
  },
  {
   "cell_type": "code",
   "execution_count": 3,
   "metadata": {},
   "outputs": [],
   "source": [
    "# load data\n",
    "ratings, movies = ml100k.load()\n",
    "\n",
    "# prepare data\n",
    "ratings, uencoder, iencoder = ids_encoder(ratings)\n",
    "\n",
    "# get examples as tuples of userids and itemids and labels from normalize ratings\n",
    "raw_examples, raw_labels = get_examples(ratings, labels_column='rating')\n",
    "\n",
    "# train test split\n",
    "(x_train, x_test), (y_train, y_test) = train_test_split(examples=raw_examples, labels=raw_labels)"
   ]
  },
  {
   "cell_type": "markdown",
   "metadata": {},
   "source": [
    "### Evaluation with the Euclidean distance"
   ]
  },
  {
   "cell_type": "code",
   "execution_count": 4,
   "metadata": {},
   "outputs": [
    {
     "name": "stdout",
     "output_type": "stream",
     "text": [
      "Normalize users ratings ...\n",
      "Initialize the similarity model ...\n",
      "Compute nearest neighbors ...\n",
      "User to user recommendation model created with success ...\n",
      "==========================\n",
      "Evaluate the model on 10000 test data ...\n",
      "\n",
      "MAE : 0.8125945111976461\n"
     ]
    },
    {
     "data": {
      "text/plain": [
       "0.8125945111976461"
      ]
     },
     "execution_count": 4,
     "metadata": {},
     "output_type": "execute_result"
    }
   ],
   "source": [
    "usertouser = UserToUser(ratings, movies, metric='euclidean')\n",
    "print(\"==========================\")\n",
    "usertouser.evaluate(x_test, y_test)"
   ]
  },
  {
   "cell_type": "markdown",
   "metadata": {},
   "source": [
    "### Evaluation with Cosine similarity"
   ]
  },
  {
   "cell_type": "code",
   "execution_count": 6,
   "metadata": {},
   "outputs": [
    {
     "name": "stdout",
     "output_type": "stream",
     "text": [
      "Normalize users ratings ...\n",
      "Initialize the similarity model ...\n",
      "Compute nearest neighbors ...\n",
      "User to user recommendation model created with success ...\n",
      "=========================\n",
      "Evaluate the model on 10000 test data ...\n",
      "\n",
      "MAE : 0.7505910931068639\n"
     ]
    },
    {
     "data": {
      "text/plain": [
       "0.7505910931068639"
      ]
     },
     "execution_count": 6,
     "metadata": {},
     "output_type": "execute_result"
    }
   ],
   "source": [
    "usertouser = UserToUser(ratings, movies, metric='cosine')\n",
    "print(\"=========================\")\n",
    "usertouser.evaluate(x_test, y_test)"
   ]
  },
  {
   "cell_type": "markdown",
   "metadata": {},
   "source": [
    "## 1.2. Item-based CF"
   ]
  },
  {
   "cell_type": "code",
   "execution_count": 7,
   "metadata": {},
   "outputs": [],
   "source": [
    "# load data\n",
    "ratings, movies = ml100k.load()\n",
    "\n",
    "# prepare data\n",
    "ratings, uencoder, iencoder = ids_encoder(ratings)\n",
    "\n",
    "# get examples as tuples of userids and itemids and labels from normalize ratings\n",
    "raw_examples, raw_labels = get_examples(ratings, labels_column='rating')\n",
    "\n",
    "# train test split\n",
    "(x_train, x_test), (y_train, y_test) = train_test_split(examples=raw_examples, labels=raw_labels)"
   ]
  },
  {
   "cell_type": "markdown",
   "metadata": {},
   "source": [
    "### Evaluation with cosine similarity"
   ]
  },
  {
   "cell_type": "code",
   "execution_count": 9,
   "metadata": {},
   "outputs": [
    {
     "name": "stdout",
     "output_type": "stream",
     "text": [
      "Normalize ratings ...\n",
      "Create the similarity model ...\n",
      "Compute nearest neighbors ...\n",
      "Item to item recommendation model created with success ...\n",
      "==================\n",
      "Evaluate the model on 10000 test data ...\n",
      "\n",
      "MAE : 0.507794195659005\n"
     ]
    },
    {
     "data": {
      "text/plain": [
       "0.507794195659005"
      ]
     },
     "execution_count": 9,
     "metadata": {},
     "output_type": "execute_result"
    }
   ],
   "source": [
    "itemtoitem = ItemToItem(ratings, movies, metric='cosine')\n",
    "print(\"==================\")\n",
    "itemtoitem.evaluate(x_test, y_test)"
   ]
  },
  {
   "cell_type": "markdown",
   "metadata": {},
   "source": [
    "### Evaluation with Euclidean distance"
   ]
  },
  {
   "cell_type": "code",
   "execution_count": 10,
   "metadata": {},
   "outputs": [
    {
     "name": "stdout",
     "output_type": "stream",
     "text": [
      "Normalize ratings ...\n",
      "Create the similarity model ...\n",
      "Compute nearest neighbors ...\n",
      "Item to item recommendation model created with success ...\n",
      "==================\n",
      "Evaluate the model on 10000 test data ...\n",
      "\n",
      "MAE : 0.8277111416143341\n"
     ]
    },
    {
     "data": {
      "text/plain": [
       "0.8277111416143341"
      ]
     },
     "execution_count": 10,
     "metadata": {},
     "output_type": "execute_result"
    }
   ],
   "source": [
    "itemtoitem = ItemToItem(ratings, movies, metric='euclidean')\n",
    "print(\"==================\")\n",
    "itemtoitem.evaluate(x_test, y_test)"
   ]
  },
  {
   "cell_type": "markdown",
   "metadata": {},
   "source": [
    "## 1.3. Matrix Factorization"
   ]
  },
  {
   "cell_type": "code",
   "execution_count": 11,
   "metadata": {},
   "outputs": [],
   "source": [
    "# load the ml100k dataset\n",
    "ratings, movies = ml100k.load()\n",
    "\n",
    "ratings, uencoder, iencoder = ids_encoder(ratings)\n",
    "\n",
    "m = ratings.userid.nunique()   # total number of users\n",
    "n = ratings.itemid.nunique()   # total number of items\n",
    "\n",
    "# get examples as tuples of userids and itemids and labels from normalize ratings\n",
    "raw_examples, raw_labels = get_examples(ratings)\n",
    "\n",
    "# train test split\n",
    "(x_train, x_test), (y_train, y_test) = train_test_split(examples=raw_examples, labels=raw_labels)"
   ]
  },
  {
   "cell_type": "code",
   "execution_count": 12,
   "metadata": {},
   "outputs": [
    {
     "name": "stdout",
     "output_type": "stream",
     "text": [
      "Training Matrix Factorization Model ...\n",
      "k=10 \t alpha=0.015 \t lambda=2\n",
      "epoch 1/10 - loss : 0.83 - val_loss : 0.831\n",
      "epoch 2/10 - loss : 0.827 - val_loss : 0.828\n",
      "epoch 3/10 - loss : 0.826 - val_loss : 0.827\n",
      "epoch 4/10 - loss : 0.826 - val_loss : 0.827\n",
      "epoch 5/10 - loss : 0.826 - val_loss : 0.827\n",
      "epoch 6/10 - loss : 0.826 - val_loss : 0.827\n",
      "epoch 7/10 - loss : 0.826 - val_loss : 0.827\n",
      "epoch 8/10 - loss : 0.826 - val_loss : 0.827\n",
      "epoch 9/10 - loss : 0.826 - val_loss : 0.827\n",
      "epoch 10/10 - loss : 0.826 - val_loss : 0.827\n"
     ]
    }
   ],
   "source": [
    "m = ratings['userid'].nunique()   # total number of users\n",
    "n = ratings['itemid'].nunique()   # total number of items\n",
    "\n",
    "# create and train the model\n",
    "mf = MF(m, n, k=10, alpha=0.015, lamb=2)\n",
    "mf_hist = mf.fit(X_train, y_train, epochs=10, validation_data=(X_test, y_test))"
   ]
  },
  {
   "cell_type": "code",
   "execution_count": 13,
   "metadata": {},
   "outputs": [
    {
     "data": {
      "image/png": "[encoded data removed]",
      "text/plain": [
       "<Figure size 576x360 with 1 Axes>"
      ]
     },
     "metadata": {
      "needs_background": "light"
     },
     "output_type": "display_data"
    }
   ],
   "source": [
    "pd.DataFrame(mf_hist).plot(x=\"epochs\", figsize=(8, 5))\n",
    "plt.grid(True)\n",
    "plt.show()"
   ]
  },
  {
   "cell_type": "code",
   "execution_count": 14,
   "metadata": {},
   "outputs": [
    {
     "name": "stdout",
     "output_type": "stream",
     "text": [
      "validation error : 0.827\n"
     ]
    },
    {
     "data": {
      "text/plain": [
       "0.8274155323406809"
      ]
     },
     "execution_count": 14,
     "metadata": {},
     "output_type": "execute_result"
    }
   ],
   "source": [
    "mf.evaluate(X_test, y_test)"
   ]
  },
  {
   "cell_type": "markdown",
   "metadata": {},
   "source": [
    "## 1.4. Explainable Matrix Factorization"
   ]
  },
  {
   "cell_type": "code",
   "execution_count": 25,
   "metadata": {},
   "outputs": [
    {
     "name": "stdout",
     "output_type": "stream",
     "text": [
      "Normalize users ratings ...\n",
      "Create the similarity model ...\n",
      "Compute nearest neighbors ...\n",
      "User to user recommendation model created with success ...\n",
      "Train/Test split \n",
      "90.0 % of training data\n",
      "10.0 % of testing data\n",
      "\n",
      "number of training examples :  (90000, 2)\n",
      "number of training labels :  (90000,)\n",
      "number of test examples :  (10000, 2)\n",
      "number of test labels :  (10000,)\n"
     ]
    }
   ],
   "source": [
    "# load data\n",
    "ratings, movies = ml100k.load()\n",
    "\n",
    "# create the user to user model for similarity measure\n",
    "usertouser = UserToUser(ratings, movies)\n",
    "\n",
    "# normalize ratings by substracting means\n",
    "normalized_column_name = \"norm_rating\"\n",
    "ratings = normalized_ratings(ratings, norm_column=normalized_column_name)\n",
    "\n",
    "# scale rating\n",
    "scaled_column_name = \"scaled_rating\"\n",
    "ratings = scale_ratings(ratings, scaled_column=scaled_column_name)\n",
    "\n",
    "# get examples as tuples of userids and itemids and labels from normalize ratings\n",
    "raw_examples, raw_labels = get_examples(ratings, labels_column=normalized_column_name)\n",
    "\n",
    "# train test split\n",
    "(train_examples, test_examples), (train_labels, test_labels) = split_data(examples=raw_examples, labels=raw_labels)\n",
    "\n",
    "examples = (train_examples, test_examples)\n",
    "labels = (train_labels, test_labels)\n",
    "\n",
    "# encode train and test examples\n",
    "(X_train, X_test), (y_train, y_test), (uencoder, iencoder) = encode_data( ratings, examples = examples, labels = labels)"
   ]
  },
  {
   "cell_type": "code",
   "execution_count": 26,
   "metadata": {},
   "outputs": [
    {
     "name": "stdout",
     "output_type": "stream",
     "text": [
      "Compute explainable scores ...\n"
     ]
    }
   ],
   "source": [
    "users = sorted(ratings['userid'].unique())\n",
    "items = sorted(ratings['itemid'].unique())\n",
    "\n",
    "m = len(users)\n",
    "n = len(items)\n",
    "\n",
    "# compute explainable scores\n",
    "W = explainable_score(usertouser, users, items, uencoder, iencoder)"
   ]
  },
  {
   "cell_type": "code",
   "execution_count": 28,
   "metadata": {},
   "outputs": [
    {
     "name": "stdout",
     "output_type": "stream",
     "text": [
      "Training EMF\n",
      "k=10 \t alpha=0.01 \t beta=0.4 \t lambda=0.01\n",
      "epoch 1/10 - loss : 0.835 - val_loss : 0.888\n",
      "epoch 2/10 - loss : 0.804 - val_loss : 0.849\n",
      "epoch 3/10 - loss : 0.796 - val_loss : 0.835\n",
      "epoch 4/10 - loss : 0.789 - val_loss : 0.824\n",
      "epoch 5/10 - loss : 0.779 - val_loss : 0.812\n",
      "epoch 6/10 - loss : 0.768 - val_loss : 0.799\n",
      "epoch 7/10 - loss : 0.757 - val_loss : 0.787\n",
      "epoch 8/10 - loss : 0.75 - val_loss : 0.778\n",
      "epoch 9/10 - loss : 0.744 - val_loss : 0.772\n",
      "epoch 10/10 - loss : 0.74 - val_loss : 0.767\n"
     ]
    }
   ],
   "source": [
    "# create, train and evaluate the EMF model\n",
    "emf = EMF(m, n, W, alpha=0.01, beta=0.4, lamb=0.01, k=10)\n",
    "\n",
    "emf_hist = emf.fit(X_train, y_train, epochs=10, validation_data=(X_test, y_test))"
   ]
  },
  {
   "cell_type": "code",
   "execution_count": 29,
   "metadata": {},
   "outputs": [
    {
     "data": {
      "image/png": "[encoded data removed]",
      "text/plain": [
       "<Figure size 576x360 with 1 Axes>"
      ]
     },
     "metadata": {
      "needs_background": "light"
     },
     "output_type": "display_data"
    }
   ],
   "source": [
    "pd.DataFrame(emf_hist).plot(x=\"epochs\", figsize=(8, 5))\n",
    "plt.grid(True)\n",
    "plt.show()"
   ]
  },
  {
   "cell_type": "code",
   "execution_count": 30,
   "metadata": {},
   "outputs": [
    {
     "name": "stdout",
     "output_type": "stream",
     "text": [
      "validation error : 0.767\n"
     ]
    },
    {
     "data": {
      "text/plain": [
       "0.7673674134065074"
      ]
     },
     "execution_count": 30,
     "metadata": {},
     "output_type": "execute_result"
    }
   ],
   "source": [
    "emf.evaluate(X_test, y_test)"
   ]
  },
  {
   "cell_type": "markdown",
   "metadata": {},
   "source": [
    "# 3. Results on MovieLens 1M (ML-1M)"
   ]
  },
  {
   "cell_type": "markdown",
   "metadata": {},
   "source": [
    "## 3.1. User-based CF"
   ]
  },
  {
   "cell_type": "code",
   "execution_count": 11,
   "metadata": {},
   "outputs": [],
   "source": [
    "# load ml100k ratings\n",
    "ratings, movies = ml1m.load()\n",
    "\n",
    "# prepare data\n",
    "ratings, uencoder, iencoder = ids_encoder(ratings)\n",
    "\n",
    "# get examples as tuples of userids and itemids and labels from normalize ratings\n",
    "raw_examples, raw_labels = get_examples(ratings, labels_column='rating')\n",
    "\n",
    "# train test split\n",
    "(x_train, x_test), (y_train, y_test) = train_test_split(examples=raw_examples, labels=raw_labels)"
   ]
  },
  {
   "cell_type": "markdown",
   "metadata": {},
   "source": [
    "### Cosine similarity"
   ]
  },
  {
   "cell_type": "code",
   "execution_count": 12,
   "metadata": {},
   "outputs": [
    {
     "name": "stdout",
     "output_type": "stream",
     "text": [
      "Normalize users ratings ...\n",
      "Initialize the similarity model ...\n",
      "Compute nearest neighbors ...\n",
      "User to user recommendation model created with success ...\n",
      "==========================\n",
      "Evaluate the model on 100021 test data ...\n",
      "\n",
      "MAE : 0.732267005840993\n"
     ]
    },
    {
     "data": {
      "text/plain": [
       "0.732267005840993"
      ]
     },
     "execution_count": 12,
     "metadata": {},
     "output_type": "execute_result"
    }
   ],
   "source": [
    "# create the user-based CF\n",
    "usertouser = UserToUser(ratings, movies, k=20, metric='cosine')\n",
    "\n",
    "# evaluate the user-based CF on the ml1m test data\n",
    "print(\"==========================\")\n",
    "usertouser.evaluate(x_test, y_test)"
   ]
  },
  {
   "cell_type": "markdown",
   "metadata": {},
   "source": [
    "### Euclidean distance"
   ]
  },
  {
   "cell_type": "code",
   "execution_count": 13,
   "metadata": {},
   "outputs": [
    {
     "name": "stdout",
     "output_type": "stream",
     "text": [
      "Normalize users ratings ...\n",
      "Initialize the similarity model ...\n",
      "Compute nearest neighbors ...\n",
      "User to user recommendation model created with success ...\n",
      "==========================\n",
      "Evaluate the model on 100021 test data ...\n",
      "\n",
      "MAE : 0.8069332535426615\n"
     ]
    },
    {
     "data": {
      "text/plain": [
       "0.8069332535426615"
      ]
     },
     "execution_count": 13,
     "metadata": {},
     "output_type": "execute_result"
    }
   ],
   "source": [
    "# create the user-based CF\n",
    "usertouser = UserToUser(ratings, movies, k=20, metric='euclidean')\n",
    "\n",
    "# evaluate the user-based CF on the ml1m test data\n",
    "print(\"==========================\")\n",
    "usertouser.evaluate(x_test, y_test)"
   ]
  },
  {
   "cell_type": "markdown",
   "metadata": {},
   "source": [
    "## 3.2. Item-based CF"
   ]
  },
  {
   "cell_type": "markdown",
   "metadata": {},
   "source": [
    "### Cosine similarity"
   ]
  },
  {
   "cell_type": "code",
   "execution_count": 15,
   "metadata": {},
   "outputs": [
    {
     "name": "stdout",
     "output_type": "stream",
     "text": [
      "Normalize ratings ...\n",
      "Create the similarity model ...\n",
      "Compute nearest neighbors ...\n",
      "Item to item recommendation model created with success ...\n",
      "==========================\n",
      "Evaluate the model on 100021 test data ...\n",
      "\n",
      "MAE : 0.42514728655396045\n"
     ]
    },
    {
     "data": {
      "text/plain": [
       "0.42514728655396045"
      ]
     },
     "execution_count": 15,
     "metadata": {},
     "output_type": "execute_result"
    }
   ],
   "source": [
    "itemtoitem = ItemToItem(ratings, movies, metric='cosine')\n",
    "print(\"==========================\")\n",
    "itemtoitem.evaluate(x_test, y_test)"
   ]
  },
  {
   "cell_type": "markdown",
   "metadata": {},
   "source": [
    "### Euclidean distance"
   ]
  },
  {
   "cell_type": "code",
   "execution_count": 14,
   "metadata": {},
   "outputs": [
    {
     "name": "stdout",
     "output_type": "stream",
     "text": [
      "Normalize ratings ...\n",
      "Create the similarity model ...\n",
      "Compute nearest neighbors ...\n",
      "Item to item recommendation model created with success ...\n",
      "==========================\n",
      "Evaluate the model on 100021 test data ...\n",
      "\n",
      "MAE : 0.82502173206615\n"
     ]
    },
    {
     "data": {
      "text/plain": [
       "0.82502173206615"
      ]
     },
     "execution_count": 14,
     "metadata": {},
     "output_type": "execute_result"
    }
   ],
   "source": [
    "itemtoitem = ItemToItem(ratings, movies, metric='euclidean')\n",
    "print(\"==========================\")\n",
    "itemtoitem.evaluate(x_test, y_test)"
   ]
  },
  {
   "cell_type": "markdown",
   "metadata": {},
   "source": [
    "## 3.3. Matrix Factorization"
   ]
  },
  {
   "cell_type": "code",
   "execution_count": 7,
   "metadata": {},
   "outputs": [],
   "source": [
    "# load data\n",
    "ratings, movies = ml1m.load()\n",
    "\n",
    "# normalize ratings by substracting means\n",
    "normalized_column_name = \"norm_rating\"\n",
    "ratings = normalized_ratings(ratings, norm_column=normalized_column_name)\n",
    "\n",
    "# get examples as tuples of userids and itemids and labels from normalize ratings\n",
    "raw_examples, raw_labels = get_examples(ratings, labels_column=normalized_column_name)\n",
    "\n",
    "# train test split\n",
    "(train_examples, test_examples), (train_labels, test_labels) = split_data(examples=raw_examples, labels=raw_labels)\n",
    "\n",
    "examples = (train_examples, test_examples)\n",
    "labels = (train_labels, test_labels)\n",
    "\n",
    "# encode train and test examples\n",
    "(X_train, X_test), (y_train, y_test), (uencoder, iencoder) = encode_data( ratings, examples = examples, labels = labels)"
   ]
  },
  {
   "cell_type": "code",
   "execution_count": null,
   "metadata": {},
   "outputs": [],
   "source": [
    "m = ratings['userid'].nunique()   # total number of users\n",
    "n = ratings['itemid'].nunique()   # total number of items\n",
    "\n",
    "# create and train the model\n",
    "mf = MF(m, n, k=10, alpha=0.01, lamb=1.5)\n",
    "history = mf.fit(X_train, y_train, epochs=10, validation_data=(X_test, y_test))"
   ]
  },
  {
   "cell_type": "markdown",
   "metadata": {},
   "source": [
    "## 3.4. Explainable Matrix Factorization"
   ]
  },
  {
   "cell_type": "code",
   "execution_count": null,
   "metadata": {},
   "outputs": [],
   "source": [
    "# load data\n",
    "ratings, movies = ml1m.load()\n",
    "\n",
    "# create the user to user model for similarity measure\n",
    "usertouser = UserToUser(ratings, movies)\n",
    "\n",
    "# normalize ratings by substracting means\n",
    "normalized_column_name = \"norm_rating\"\n",
    "ratings = normalized_ratings(ratings, norm_column=normalized_column_name)\n",
    "\n",
    "# scale rating\n",
    "scaled_column_name = \"scaled_rating\"\n",
    "ratings = scale_ratings(ratings, scaled_column=scaled_column_name)\n",
    "\n",
    "# get examples as tuples of userids and itemids and labels from normalize ratings\n",
    "raw_examples, raw_labels = get_examples(ratings, labels_column=normalized_column_name)\n",
    "\n",
    "# train test split\n",
    "(train_examples, test_examples), (train_labels, test_labels) = split_data(examples=raw_examples, labels=raw_labels)\n",
    "\n",
    "examples = (train_examples, test_examples)\n",
    "labels = (train_labels, test_labels)\n",
    "\n",
    "# encode train and test examples\n",
    "(X_train, X_test), (y_train, y_test), (uencoder, iencoder) = encode_data( ratings, examples = examples, labels = labels)"
   ]
  },
  {
   "cell_type": "code",
   "execution_count": null,
   "metadata": {},
   "outputs": [],
   "source": [
    "users = sorted(ratings['userid'].unique())\n",
    "items = sorted(ratings['itemid'].unique())\n",
    "\n",
    "m = len(users)\n",
    "n = len(items)\n",
    "\n",
    "# compute explainable scores\n",
    "W = explainable_score(usertouser, users, items, uencoder, iencoder)"
   ]
  },
  {
   "cell_type": "code",
   "execution_count": null,
   "metadata": {},
   "outputs": [],
   "source": [
    "# create, train and evaluate the EMF model\n",
    "emf = EMF(m, n, W, alpha=0.01, beta=0.4, lamb=0.01, k=10)\n",
    "\n",
    "emf_hist = emf.fit(X_train, y_train, epochs=10, validation_data=(X_test, y_test))"
   ]
  },
  {
   "cell_type": "markdown",
   "metadata": {},
   "source": [
    "## Author\n",
    "\n",
    "[Carmel WENGA](https://www.linkedin.com/in/carmel-wenga-871876178/), <br>\n",
    "PhD student at Université de la Polynésie Française, <br> \n",
    "Applied Machine Learning Research Engineer, <br>\n",
    "[ShoppingList](https://shoppinglist.cm), NzhinuSoft."
   ]
  }
 ],
 "metadata": {
  "kernelspec": {
   "display_name": "Python 3",
   "language": "python",
   "name": "python3"
  },
  "language_info": {
   "codemirror_mode": {
    "name": "ipython",
    "version": 3
   },
   "file_extension": ".py",
   "mimetype": "text/x-python",
   "name": "python",
   "nbconvert_exporter": "python",
   "pygments_lexer": "ipython3",
   "version": "3.7.0"
  }
 },
 "nbformat": 4,
 "nbformat_minor": 2
}
